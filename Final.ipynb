{
 "cells": [
  {
   "cell_type": "markdown",
   "id": "b858e5ba",
   "metadata": {},
   "source": [
    " #                                         CAPSTONE PROJECT"
   ]
  },
  {
   "cell_type": "markdown",
   "id": "43695480",
   "metadata": {},
   "source": [
    "# Predicting Mental Health in Tech workplace"
   ]
  },
  {
   "cell_type": "code",
   "execution_count": 1,
   "id": "fe19485e",
   "metadata": {},
   "outputs": [],
   "source": [
    "# importting reguired libraries\n",
    "\n",
    "import numpy as np\n",
    "import pandas as pd\n",
    "import matplotlib.pyplot as plt\n",
    "import seaborn as sns\n",
    "from scipy import stats\n",
    "\n",
    "from warnings import filterwarnings\n",
    "filterwarnings('ignore')\n",
    "\n",
    "from sklearn.preprocessing import LabelEncoder\n",
    "from sklearn.preprocessing import OrdinalEncoder\n",
    "\n",
    "from sklearn.preprocessing import LabelEncoder\n",
    "from sklearn.tree import DecisionTreeClassifier \n",
    "from sklearn.ensemble import RandomForestClassifier\n",
    "from sklearn.ensemble import AdaBoostClassifier\n",
    "import xgboost\n",
    "from xgboost import XGBClassifier\n",
    "from sklearn.neighbors import KNeighborsClassifier\n",
    "from sklearn.svm import SVC\n",
    "from sklearn.naive_bayes import GaussianNB\n",
    "from sklearn.ensemble import StackingClassifier\n",
    "\n",
    "from sklearn.model_selection import train_test_split\n",
    "from sklearn.model_selection import GridSearchCV\n",
    "\n",
    "from sklearn.metrics import cohen_kappa_score\n",
    "from sklearn.metrics import roc_auc_score\n",
    "from sklearn.metrics import roc_curve\n",
    "from sklearn.metrics import confusion_matrix\n",
    "from sklearn.metrics import classification_report\n"
   ]
  },
  {
   "cell_type": "code",
   "execution_count": 2,
   "id": "3f66c4a7",
   "metadata": {},
   "outputs": [],
   "source": [
    "pd.options.display.max_columns=None"
   ]
  },
  {
   "cell_type": "code",
   "execution_count": 3,
   "id": "df56c08f",
   "metadata": {
    "scrolled": false
   },
   "outputs": [
    {
     "ename": "FileNotFoundError",
     "evalue": "[Errno 2] No such file or directory: 'survey.csv'",
     "output_type": "error",
     "traceback": [
      "\u001b[1;31m---------------------------------------------------------------------------\u001b[0m",
      "\u001b[1;31mFileNotFoundError\u001b[0m                         Traceback (most recent call last)",
      "\u001b[1;32m~\\AppData\\Local\\Temp/ipykernel_7904/3513172360.py\u001b[0m in \u001b[0;36m<module>\u001b[1;34m\u001b[0m\n\u001b[0;32m      1\u001b[0m \u001b[1;31m# importing dataset\u001b[0m\u001b[1;33m\u001b[0m\u001b[1;33m\u001b[0m\u001b[0m\n\u001b[1;32m----> 2\u001b[1;33m \u001b[0mdf\u001b[0m \u001b[1;33m=\u001b[0m \u001b[0mpd\u001b[0m\u001b[1;33m.\u001b[0m\u001b[0mread_csv\u001b[0m\u001b[1;33m(\u001b[0m\u001b[1;34m'survey.csv'\u001b[0m\u001b[1;33m)\u001b[0m\u001b[1;33m\u001b[0m\u001b[1;33m\u001b[0m\u001b[0m\n\u001b[0m\u001b[0;32m      3\u001b[0m \u001b[0mdf\u001b[0m\u001b[1;33m.\u001b[0m\u001b[0mhead\u001b[0m\u001b[1;33m(\u001b[0m\u001b[1;33m)\u001b[0m\u001b[1;33m\u001b[0m\u001b[1;33m\u001b[0m\u001b[0m\n",
      "\u001b[1;32m~\\Anaconda3\\lib\\site-packages\\pandas\\util\\_decorators.py\u001b[0m in \u001b[0;36mwrapper\u001b[1;34m(*args, **kwargs)\u001b[0m\n\u001b[0;32m    309\u001b[0m                     \u001b[0mstacklevel\u001b[0m\u001b[1;33m=\u001b[0m\u001b[0mstacklevel\u001b[0m\u001b[1;33m,\u001b[0m\u001b[1;33m\u001b[0m\u001b[1;33m\u001b[0m\u001b[0m\n\u001b[0;32m    310\u001b[0m                 )\n\u001b[1;32m--> 311\u001b[1;33m             \u001b[1;32mreturn\u001b[0m \u001b[0mfunc\u001b[0m\u001b[1;33m(\u001b[0m\u001b[1;33m*\u001b[0m\u001b[0margs\u001b[0m\u001b[1;33m,\u001b[0m \u001b[1;33m**\u001b[0m\u001b[0mkwargs\u001b[0m\u001b[1;33m)\u001b[0m\u001b[1;33m\u001b[0m\u001b[1;33m\u001b[0m\u001b[0m\n\u001b[0m\u001b[0;32m    312\u001b[0m \u001b[1;33m\u001b[0m\u001b[0m\n\u001b[0;32m    313\u001b[0m         \u001b[1;32mreturn\u001b[0m \u001b[0mwrapper\u001b[0m\u001b[1;33m\u001b[0m\u001b[1;33m\u001b[0m\u001b[0m\n",
      "\u001b[1;32m~\\Anaconda3\\lib\\site-packages\\pandas\\io\\parsers\\readers.py\u001b[0m in \u001b[0;36mread_csv\u001b[1;34m(filepath_or_buffer, sep, delimiter, header, names, index_col, usecols, squeeze, prefix, mangle_dupe_cols, dtype, engine, converters, true_values, false_values, skipinitialspace, skiprows, skipfooter, nrows, na_values, keep_default_na, na_filter, verbose, skip_blank_lines, parse_dates, infer_datetime_format, keep_date_col, date_parser, dayfirst, cache_dates, iterator, chunksize, compression, thousands, decimal, lineterminator, quotechar, quoting, doublequote, escapechar, comment, encoding, encoding_errors, dialect, error_bad_lines, warn_bad_lines, on_bad_lines, delim_whitespace, low_memory, memory_map, float_precision, storage_options)\u001b[0m\n\u001b[0;32m    584\u001b[0m     \u001b[0mkwds\u001b[0m\u001b[1;33m.\u001b[0m\u001b[0mupdate\u001b[0m\u001b[1;33m(\u001b[0m\u001b[0mkwds_defaults\u001b[0m\u001b[1;33m)\u001b[0m\u001b[1;33m\u001b[0m\u001b[1;33m\u001b[0m\u001b[0m\n\u001b[0;32m    585\u001b[0m \u001b[1;33m\u001b[0m\u001b[0m\n\u001b[1;32m--> 586\u001b[1;33m     \u001b[1;32mreturn\u001b[0m \u001b[0m_read\u001b[0m\u001b[1;33m(\u001b[0m\u001b[0mfilepath_or_buffer\u001b[0m\u001b[1;33m,\u001b[0m \u001b[0mkwds\u001b[0m\u001b[1;33m)\u001b[0m\u001b[1;33m\u001b[0m\u001b[1;33m\u001b[0m\u001b[0m\n\u001b[0m\u001b[0;32m    587\u001b[0m \u001b[1;33m\u001b[0m\u001b[0m\n\u001b[0;32m    588\u001b[0m \u001b[1;33m\u001b[0m\u001b[0m\n",
      "\u001b[1;32m~\\Anaconda3\\lib\\site-packages\\pandas\\io\\parsers\\readers.py\u001b[0m in \u001b[0;36m_read\u001b[1;34m(filepath_or_buffer, kwds)\u001b[0m\n\u001b[0;32m    480\u001b[0m \u001b[1;33m\u001b[0m\u001b[0m\n\u001b[0;32m    481\u001b[0m     \u001b[1;31m# Create the parser.\u001b[0m\u001b[1;33m\u001b[0m\u001b[1;33m\u001b[0m\u001b[0m\n\u001b[1;32m--> 482\u001b[1;33m     \u001b[0mparser\u001b[0m \u001b[1;33m=\u001b[0m \u001b[0mTextFileReader\u001b[0m\u001b[1;33m(\u001b[0m\u001b[0mfilepath_or_buffer\u001b[0m\u001b[1;33m,\u001b[0m \u001b[1;33m**\u001b[0m\u001b[0mkwds\u001b[0m\u001b[1;33m)\u001b[0m\u001b[1;33m\u001b[0m\u001b[1;33m\u001b[0m\u001b[0m\n\u001b[0m\u001b[0;32m    483\u001b[0m \u001b[1;33m\u001b[0m\u001b[0m\n\u001b[0;32m    484\u001b[0m     \u001b[1;32mif\u001b[0m \u001b[0mchunksize\u001b[0m \u001b[1;32mor\u001b[0m \u001b[0miterator\u001b[0m\u001b[1;33m:\u001b[0m\u001b[1;33m\u001b[0m\u001b[1;33m\u001b[0m\u001b[0m\n",
      "\u001b[1;32m~\\Anaconda3\\lib\\site-packages\\pandas\\io\\parsers\\readers.py\u001b[0m in \u001b[0;36m__init__\u001b[1;34m(self, f, engine, **kwds)\u001b[0m\n\u001b[0;32m    809\u001b[0m             \u001b[0mself\u001b[0m\u001b[1;33m.\u001b[0m\u001b[0moptions\u001b[0m\u001b[1;33m[\u001b[0m\u001b[1;34m\"has_index_names\"\u001b[0m\u001b[1;33m]\u001b[0m \u001b[1;33m=\u001b[0m \u001b[0mkwds\u001b[0m\u001b[1;33m[\u001b[0m\u001b[1;34m\"has_index_names\"\u001b[0m\u001b[1;33m]\u001b[0m\u001b[1;33m\u001b[0m\u001b[1;33m\u001b[0m\u001b[0m\n\u001b[0;32m    810\u001b[0m \u001b[1;33m\u001b[0m\u001b[0m\n\u001b[1;32m--> 811\u001b[1;33m         \u001b[0mself\u001b[0m\u001b[1;33m.\u001b[0m\u001b[0m_engine\u001b[0m \u001b[1;33m=\u001b[0m \u001b[0mself\u001b[0m\u001b[1;33m.\u001b[0m\u001b[0m_make_engine\u001b[0m\u001b[1;33m(\u001b[0m\u001b[0mself\u001b[0m\u001b[1;33m.\u001b[0m\u001b[0mengine\u001b[0m\u001b[1;33m)\u001b[0m\u001b[1;33m\u001b[0m\u001b[1;33m\u001b[0m\u001b[0m\n\u001b[0m\u001b[0;32m    812\u001b[0m \u001b[1;33m\u001b[0m\u001b[0m\n\u001b[0;32m    813\u001b[0m     \u001b[1;32mdef\u001b[0m \u001b[0mclose\u001b[0m\u001b[1;33m(\u001b[0m\u001b[0mself\u001b[0m\u001b[1;33m)\u001b[0m\u001b[1;33m:\u001b[0m\u001b[1;33m\u001b[0m\u001b[1;33m\u001b[0m\u001b[0m\n",
      "\u001b[1;32m~\\Anaconda3\\lib\\site-packages\\pandas\\io\\parsers\\readers.py\u001b[0m in \u001b[0;36m_make_engine\u001b[1;34m(self, engine)\u001b[0m\n\u001b[0;32m   1038\u001b[0m             )\n\u001b[0;32m   1039\u001b[0m         \u001b[1;31m# error: Too many arguments for \"ParserBase\"\u001b[0m\u001b[1;33m\u001b[0m\u001b[1;33m\u001b[0m\u001b[0m\n\u001b[1;32m-> 1040\u001b[1;33m         \u001b[1;32mreturn\u001b[0m \u001b[0mmapping\u001b[0m\u001b[1;33m[\u001b[0m\u001b[0mengine\u001b[0m\u001b[1;33m]\u001b[0m\u001b[1;33m(\u001b[0m\u001b[0mself\u001b[0m\u001b[1;33m.\u001b[0m\u001b[0mf\u001b[0m\u001b[1;33m,\u001b[0m \u001b[1;33m**\u001b[0m\u001b[0mself\u001b[0m\u001b[1;33m.\u001b[0m\u001b[0moptions\u001b[0m\u001b[1;33m)\u001b[0m  \u001b[1;31m# type: ignore[call-arg]\u001b[0m\u001b[1;33m\u001b[0m\u001b[1;33m\u001b[0m\u001b[0m\n\u001b[0m\u001b[0;32m   1041\u001b[0m \u001b[1;33m\u001b[0m\u001b[0m\n\u001b[0;32m   1042\u001b[0m     \u001b[1;32mdef\u001b[0m \u001b[0m_failover_to_python\u001b[0m\u001b[1;33m(\u001b[0m\u001b[0mself\u001b[0m\u001b[1;33m)\u001b[0m\u001b[1;33m:\u001b[0m\u001b[1;33m\u001b[0m\u001b[1;33m\u001b[0m\u001b[0m\n",
      "\u001b[1;32m~\\Anaconda3\\lib\\site-packages\\pandas\\io\\parsers\\c_parser_wrapper.py\u001b[0m in \u001b[0;36m__init__\u001b[1;34m(self, src, **kwds)\u001b[0m\n\u001b[0;32m     49\u001b[0m \u001b[1;33m\u001b[0m\u001b[0m\n\u001b[0;32m     50\u001b[0m         \u001b[1;31m# open handles\u001b[0m\u001b[1;33m\u001b[0m\u001b[1;33m\u001b[0m\u001b[0m\n\u001b[1;32m---> 51\u001b[1;33m         \u001b[0mself\u001b[0m\u001b[1;33m.\u001b[0m\u001b[0m_open_handles\u001b[0m\u001b[1;33m(\u001b[0m\u001b[0msrc\u001b[0m\u001b[1;33m,\u001b[0m \u001b[0mkwds\u001b[0m\u001b[1;33m)\u001b[0m\u001b[1;33m\u001b[0m\u001b[1;33m\u001b[0m\u001b[0m\n\u001b[0m\u001b[0;32m     52\u001b[0m         \u001b[1;32massert\u001b[0m \u001b[0mself\u001b[0m\u001b[1;33m.\u001b[0m\u001b[0mhandles\u001b[0m \u001b[1;32mis\u001b[0m \u001b[1;32mnot\u001b[0m \u001b[1;32mNone\u001b[0m\u001b[1;33m\u001b[0m\u001b[1;33m\u001b[0m\u001b[0m\n\u001b[0;32m     53\u001b[0m \u001b[1;33m\u001b[0m\u001b[0m\n",
      "\u001b[1;32m~\\Anaconda3\\lib\\site-packages\\pandas\\io\\parsers\\base_parser.py\u001b[0m in \u001b[0;36m_open_handles\u001b[1;34m(self, src, kwds)\u001b[0m\n\u001b[0;32m    220\u001b[0m         \u001b[0mLet\u001b[0m \u001b[0mthe\u001b[0m \u001b[0mreaders\u001b[0m \u001b[0mopen\u001b[0m \u001b[0mIOHandles\u001b[0m \u001b[0mafter\u001b[0m \u001b[0mthey\u001b[0m \u001b[0mare\u001b[0m \u001b[0mdone\u001b[0m \u001b[1;32mwith\u001b[0m \u001b[0mtheir\u001b[0m \u001b[0mpotential\u001b[0m \u001b[0mraises\u001b[0m\u001b[1;33m.\u001b[0m\u001b[1;33m\u001b[0m\u001b[1;33m\u001b[0m\u001b[0m\n\u001b[0;32m    221\u001b[0m         \"\"\"\n\u001b[1;32m--> 222\u001b[1;33m         self.handles = get_handle(\n\u001b[0m\u001b[0;32m    223\u001b[0m             \u001b[0msrc\u001b[0m\u001b[1;33m,\u001b[0m\u001b[1;33m\u001b[0m\u001b[1;33m\u001b[0m\u001b[0m\n\u001b[0;32m    224\u001b[0m             \u001b[1;34m\"r\"\u001b[0m\u001b[1;33m,\u001b[0m\u001b[1;33m\u001b[0m\u001b[1;33m\u001b[0m\u001b[0m\n",
      "\u001b[1;32m~\\Anaconda3\\lib\\site-packages\\pandas\\io\\common.py\u001b[0m in \u001b[0;36mget_handle\u001b[1;34m(path_or_buf, mode, encoding, compression, memory_map, is_text, errors, storage_options)\u001b[0m\n\u001b[0;32m    700\u001b[0m         \u001b[1;32mif\u001b[0m \u001b[0mioargs\u001b[0m\u001b[1;33m.\u001b[0m\u001b[0mencoding\u001b[0m \u001b[1;32mand\u001b[0m \u001b[1;34m\"b\"\u001b[0m \u001b[1;32mnot\u001b[0m \u001b[1;32min\u001b[0m \u001b[0mioargs\u001b[0m\u001b[1;33m.\u001b[0m\u001b[0mmode\u001b[0m\u001b[1;33m:\u001b[0m\u001b[1;33m\u001b[0m\u001b[1;33m\u001b[0m\u001b[0m\n\u001b[0;32m    701\u001b[0m             \u001b[1;31m# Encoding\u001b[0m\u001b[1;33m\u001b[0m\u001b[1;33m\u001b[0m\u001b[0m\n\u001b[1;32m--> 702\u001b[1;33m             handle = open(\n\u001b[0m\u001b[0;32m    703\u001b[0m                 \u001b[0mhandle\u001b[0m\u001b[1;33m,\u001b[0m\u001b[1;33m\u001b[0m\u001b[1;33m\u001b[0m\u001b[0m\n\u001b[0;32m    704\u001b[0m                 \u001b[0mioargs\u001b[0m\u001b[1;33m.\u001b[0m\u001b[0mmode\u001b[0m\u001b[1;33m,\u001b[0m\u001b[1;33m\u001b[0m\u001b[1;33m\u001b[0m\u001b[0m\n",
      "\u001b[1;31mFileNotFoundError\u001b[0m: [Errno 2] No such file or directory: 'survey.csv'"
     ]
    }
   ],
   "source": [
    "# importing dataset\n",
    "df = pd.read_csv('survey.csv')\n",
    "df.head()"
   ]
  },
  {
   "cell_type": "markdown",
   "id": "e4a55608",
   "metadata": {},
   "source": [
    "## DATA UNDERSTANDING"
   ]
  },
  {
   "cell_type": "markdown",
   "id": "c8412456",
   "metadata": {},
   "source": [
    "### Columns in dataset:\n",
    "**•Timestamp**<br>\n",
    "**• Age**<br>\n",
    "**• Gender**<br>\n",
    "**• Country**<br>\n",
    "**• state** : If you live in the United States, which state or territory do you live in?<br>\n",
    "**• self_employed** : Are you self-employed?<br>\n",
    "**• family_history** : Do you have a family history of mental illness?<br>\n",
    "**• treatment** : Have you sought treatment for a mental health condition?<br>\n",
    "**• work_interfere** : If you have a mental health condition, do you feel that it interferes with your work?<br>\n",
    "**• no_employees** : How many employees does your company or organization have?<br>\n",
    "**• remote_work** : Do you work remotely (outside of an office) at least 50% of the time?<br>\n",
    "**• tech_company** : Is your employer primarily a tech company/organization?<br>\n",
    "**• benefits** : Does your employer provide mental health benefits?<br>\n",
    "**• care_options** : Do you know the options for mental health care your employer provides?<br>\n",
    "**• wellness_program** : Has your employer ever discussed mental health as part of an employee wellness program?<br>\n",
    "**• seek_help** : Does your employer provide resources to learn more about mental health issues and how to seek help?<br>\n",
    "**• anonymity** : Is your anonymity protected if you choose to take advantage of mental health or substance abuse treat<br>\n",
    "**• leave** : How easy is it for you to take medical leave for a mental health condition?<br>\n",
    "**• mentalhealthconsequence** : Do you think that discussing a mental health issue with your employer would have negative consequences<br>\n",
    "**• physhealthconsequence** : Do you think that discussing a physical health issue with your employer would have negative consequences<br>\n",
    "**• coworkers** : Would you be willing to discuss a mental health issue with your coworkers?<br>\n",
    "**• supervisor** : Would you be willing to discuss a mental health issue with your direct supervisor(s)?<br>\n",
    "**• mentalhealthinterview** : Would you bring up a mental health issue with a potential employer in an interview? <br>\n",
    "**• physhealthinterview** : Would you bring up a physical health issue with a potential employer in an interview?<br>\n",
    "**• mentalvsphysical** : Do you feel that your employer takes mental health as seriously as physical health?<br>\n",
    "**• obs_consequence** : Have you heard of or observed negative consequences for coworkerswith mental health conditions<br>\n",
    "**• comments**    \n"
   ]
  },
  {
   "cell_type": "code",
   "execution_count": null,
   "id": "dddbd12e",
   "metadata": {
    "scrolled": false
   },
   "outputs": [],
   "source": [
    "# information about the dataset\n",
    "df.info()"
   ]
  },
  {
   "cell_type": "markdown",
   "id": "45b962a2",
   "metadata": {},
   "source": [
    "There 2 columns in total, out of we have only are numeric datatype and remaining 26 columns are object data type.<br>\n",
    "Out of the 26 object datatype columns, 24 columns are catergorical variables."
   ]
  },
  {
   "cell_type": "code",
   "execution_count": null,
   "id": "f6975ee7",
   "metadata": {},
   "outputs": [],
   "source": [
    "# Description about the numeric column\n",
    "df.describe().applymap('{:,.2f}'.format)"
   ]
  },
  {
   "cell_type": "markdown",
   "id": "465d8535",
   "metadata": {},
   "source": [
    "There are 1259 entries in the age column.The maximun and minimum age values doesnot make sense. Hence we have to check for garbage values in the column"
   ]
  },
  {
   "cell_type": "code",
   "execution_count": null,
   "id": "2c45e8cc",
   "metadata": {
    "scrolled": true
   },
   "outputs": [],
   "source": [
    "# Description of object type variables\n",
    "df.describe(include='object')"
   ]
  },
  {
   "cell_type": "markdown",
   "id": "a4839725",
   "metadata": {},
   "source": [
    "The column Gender has 49 unique entries. We will look into that further.<br>\n",
    "The few columns seems to have null values. Depending upon the null value percentage of each column and the value it adds to the dataset, we take appropritae actions further."
   ]
  },
  {
   "cell_type": "markdown",
   "id": "64a42a5b",
   "metadata": {},
   "source": [
    "### Check for null values"
   ]
  },
  {
   "cell_type": "code",
   "execution_count": null,
   "id": "398611d1",
   "metadata": {
    "scrolled": false
   },
   "outputs": [],
   "source": [
    "# Percentage of null values in each column\n",
    "((df.isnull().sum()/len(df))*100).sort_values(ascending=False)"
   ]
  },
  {
   "cell_type": "code",
   "execution_count": null,
   "id": "e7ef4f5b",
   "metadata": {},
   "outputs": [],
   "source": [
    "# plotting the null values in heatmap\n",
    "plt.figure(figsize=(14,7))\n",
    "sns.heatmap(df.isnull(),cmap='Purples')\n",
    "plt.show()"
   ]
  },
  {
   "cell_type": "markdown",
   "id": "419be3a9",
   "metadata": {},
   "source": [
    "The column comments has comments 87% null values. Hence we drop the column.<br>\n",
    "The column state has 41% null values and it is not adding significant information to the dataset. Hence we drop the column.<br>\n",
    "The column work interfere has 21 % null values. This column adds significant information, hence we replace the null values with the mode of the column.<br>\n",
    "The column self employed has only 1.4% missing value. This also replaced with mode values."
   ]
  },
  {
   "cell_type": "markdown",
   "id": "dd031033",
   "metadata": {},
   "source": [
    "### Check for duplicate values"
   ]
  },
  {
   "cell_type": "code",
   "execution_count": null,
   "id": "b073c4e9",
   "metadata": {},
   "outputs": [],
   "source": [
    "df.duplicated().sum()"
   ]
  },
  {
   "cell_type": "markdown",
   "id": "ecb34c2f",
   "metadata": {
    "scrolled": false
   },
   "source": [
    "There are no duplicated values present in the dataset"
   ]
  },
  {
   "cell_type": "markdown",
   "id": "e5196e09",
   "metadata": {},
   "source": [
    "## DATA PREPROCESSING"
   ]
  },
  {
   "cell_type": "markdown",
   "id": "c1ce2266",
   "metadata": {},
   "source": [
    "Here we perform preprocession to drop the redundant columns and clean the data from garbage values"
   ]
  },
  {
   "cell_type": "code",
   "execution_count": null,
   "id": "aaaea95b",
   "metadata": {},
   "outputs": [],
   "source": [
    "# Droping the columns timestamp, state, comments\n",
    "df.drop(columns=['Timestamp', 'state', 'comments'],axis=1,inplace=True)"
   ]
  },
  {
   "cell_type": "code",
   "execution_count": null,
   "id": "989ed8fc",
   "metadata": {},
   "outputs": [],
   "source": [
    "df.head(2)"
   ]
  },
  {
   "cell_type": "markdown",
   "id": "ec8eb838",
   "metadata": {},
   "source": [
    "Cleaning the data from garbage values"
   ]
  },
  {
   "cell_type": "markdown",
   "id": "4dcf5346",
   "metadata": {},
   "source": [
    "Checking the column Age"
   ]
  },
  {
   "cell_type": "code",
   "execution_count": null,
   "id": "1369a93b",
   "metadata": {},
   "outputs": [],
   "source": [
    "plt.figure(figsize=(12,6))\n",
    "sns.kdeplot(x=df['Age'])\n",
    "plt.show()"
   ]
  },
  {
   "cell_type": "markdown",
   "id": "fe9ad007",
   "metadata": {},
   "source": [
    "There are age values greate than 100 and negative values, which is not possible. Removing the age values greater than 80 and less than 13.(As the official age to work part time in  UK and USA is 13 and 14 respectively)."
   ]
  },
  {
   "cell_type": "code",
   "execution_count": null,
   "id": "54db8b44",
   "metadata": {},
   "outputs": [],
   "source": [
    "age_mismatch  = df[(df['Age']>80) | (df['Age']<13)].index"
   ]
  },
  {
   "cell_type": "code",
   "execution_count": null,
   "id": "30e8336a",
   "metadata": {},
   "outputs": [],
   "source": [
    "df.drop(index=age_mismatch,axis=0,inplace=True)"
   ]
  },
  {
   "cell_type": "markdown",
   "id": "29f18bd3",
   "metadata": {},
   "source": [
    "The column Gender has 49 unique values. For the sake of simplicity we categorise them into Male, Female and Others."
   ]
  },
  {
   "cell_type": "code",
   "execution_count": null,
   "id": "328f443c",
   "metadata": {},
   "outputs": [],
   "source": [
    "df.shape"
   ]
  },
  {
   "cell_type": "code",
   "execution_count": null,
   "id": "ca1242e1",
   "metadata": {},
   "outputs": [],
   "source": [
    "df.Gender.unique()"
   ]
  },
  {
   "cell_type": "code",
   "execution_count": null,
   "id": "19c8589a",
   "metadata": {},
   "outputs": [],
   "source": [
    "df['Gender'] = df['Gender'].replace({'male':'Male','M':'Male','m':'Male','Make':'Male','Man':'Male','Malr':'Male',\n",
    "                'Male (CIS)':'Male','Male ':'Male','Cis Male':'Male','Mail':'Male','Cis Male':'Male','cis male':'Male',\n",
    "                'msle':'Male','Cis Man':'Male','maile':'Male','Mal':'Male',\n",
    "                'female':'Female','F':'Female','f':'Female','Woman':'Female','Femake':'Female','Female ':'Female',\n",
    "                'femail':'Female', 'Female (cis)':'Female','woman':'Female','cis-female/femme':'Female','Cis Female':'Female',\n",
    "                'Female (trans)':'Others','Androgyne':'Others','queer':'Others','Neuter':'Others',\n",
    "                'Trans woman':'Others','fluid':'Others','non-binary':'Others','queer/she/they':'Others','Enby':'Others',\n",
    "                'Trans-female':'Female','Genderqueer':'Others','Agender':'Others','something kinda male?':'Others','Male-ish':'Others','ostensibly male, unsure what that really means':'Others',\n",
    "                'Nah':'Others','Guy (-ish) ^_^':'Others','male leaning androgynous':'Others','A little about you':'Others'})"
   ]
  },
  {
   "cell_type": "code",
   "execution_count": null,
   "id": "2cc455fa",
   "metadata": {},
   "outputs": [],
   "source": [
    "df.Gender.unique()"
   ]
  },
  {
   "cell_type": "markdown",
   "id": "5f2ca0ba",
   "metadata": {},
   "source": [
    "## EXPLORATORY DATA ANALYSIS"
   ]
  },
  {
   "cell_type": "markdown",
   "id": "7842c91d",
   "metadata": {},
   "source": [
    "### Univariant Analysis"
   ]
  },
  {
   "cell_type": "code",
   "execution_count": null,
   "id": "fe06a3e9",
   "metadata": {
    "scrolled": true
   },
   "outputs": [],
   "source": [
    "df.columns"
   ]
  },
  {
   "cell_type": "markdown",
   "id": "728aabf1",
   "metadata": {},
   "source": [
    "### Age"
   ]
  },
  {
   "cell_type": "code",
   "execution_count": null,
   "id": "523ab207",
   "metadata": {},
   "outputs": [],
   "source": [
    "plt.subplots(1,2,figsize=(20,8))\n",
    "\n",
    "plt.subplot(121)\n",
    "sns.distplot(x=df['Age'])\n",
    "plt.xlabel('Age')\n",
    "\n",
    "\n",
    "plt.subplot(122)\n",
    "sns.histplot(x=df.Age,binwidth=10)\n",
    "\n",
    "plt.suptitle ('Distribution of Age',fontsize=20)\n",
    "plt.show()"
   ]
  },
  {
   "cell_type": "markdown",
   "id": "414f67c3",
   "metadata": {},
   "source": [
    "Majority employees age is in their 30's. The column age is right skewed. "
   ]
  },
  {
   "cell_type": "markdown",
   "id": "bb0740f0",
   "metadata": {},
   "source": [
    "### Gender"
   ]
  },
  {
   "cell_type": "code",
   "execution_count": null,
   "id": "c4839bd2",
   "metadata": {},
   "outputs": [],
   "source": [
    "df.Gender.value_counts()"
   ]
  },
  {
   "cell_type": "code",
   "execution_count": null,
   "id": "28c7745b",
   "metadata": {
    "scrolled": false
   },
   "outputs": [],
   "source": [
    "plt.figure(figsize=(10,5))\n",
    "sns.countplot(x=df['Gender'])\n",
    "plt.title('Count plot of Gender',fontsize=15)\n",
    "plt.show()"
   ]
  },
  {
   "cell_type": "markdown",
   "id": "441eca40",
   "metadata": {},
   "source": [
    "Majority of them employees are male. Other gender group is the minority genger "
   ]
  },
  {
   "cell_type": "markdown",
   "id": "81a28987",
   "metadata": {},
   "source": [
    "### Country"
   ]
  },
  {
   "cell_type": "code",
   "execution_count": null,
   "id": "8f4a2758",
   "metadata": {},
   "outputs": [],
   "source": [
    "df.Country.value_counts()"
   ]
  },
  {
   "cell_type": "code",
   "execution_count": null,
   "id": "89a56036",
   "metadata": {},
   "outputs": [],
   "source": [
    "plt.figure(figsize=(12,6))\n",
    "sns.countplot(x=df['Country'])\n",
    "plt.xticks(rotation=90)\n",
    "plt.title('Distribution of employees wrt to countries',fontsize=15)\n",
    "plt.show()"
   ]
  },
  {
   "cell_type": "code",
   "execution_count": null,
   "id": "dc4a5518",
   "metadata": {},
   "outputs": [],
   "source": [
    "df.Country.nunique()"
   ]
  },
  {
   "cell_type": "markdown",
   "id": "8ae525ac",
   "metadata": {},
   "source": [
    "The are employees from 46 countries who have taken the survey. 50% of the people are from United states. There are also significant employees from United Kingdom and Canada."
   ]
  },
  {
   "cell_type": "markdown",
   "id": "f5015dad",
   "metadata": {},
   "source": [
    "### Self employed"
   ]
  },
  {
   "cell_type": "code",
   "execution_count": null,
   "id": "34e44ce1",
   "metadata": {},
   "outputs": [],
   "source": [
    "df.self_employed.value_counts()"
   ]
  },
  {
   "cell_type": "code",
   "execution_count": null,
   "id": "86128d41",
   "metadata": {},
   "outputs": [],
   "source": [
    "sns.countplot(x=df['self_employed'])\n",
    "plt.title('Are you self-employeed?',fontsize=15)\n",
    "plt.show()"
   ]
  },
  {
   "cell_type": "markdown",
   "id": "2ccb0ed5",
   "metadata": {},
   "source": [
    "Majority (80%) of the people work for others"
   ]
  },
  {
   "cell_type": "markdown",
   "id": "d2eb7dd8",
   "metadata": {},
   "source": [
    "### Family history"
   ]
  },
  {
   "cell_type": "code",
   "execution_count": null,
   "id": "7f85aef0",
   "metadata": {},
   "outputs": [],
   "source": [
    "df.family_history.value_counts()"
   ]
  },
  {
   "cell_type": "code",
   "execution_count": null,
   "id": "143c4414",
   "metadata": {
    "scrolled": true
   },
   "outputs": [],
   "source": [
    "sns.countplot(x=df['family_history'])\n",
    "plt.title(' Any family history of mental illness?',fontsize=15)\n",
    "plt.show()"
   ]
  },
  {
   "cell_type": "markdown",
   "id": "f1c429db",
   "metadata": {},
   "source": [
    "60% of the employees have no family history mental illness"
   ]
  },
  {
   "cell_type": "markdown",
   "id": "8c18fffa",
   "metadata": {},
   "source": [
    "###  Treatment"
   ]
  },
  {
   "cell_type": "code",
   "execution_count": null,
   "id": "97e44a41",
   "metadata": {},
   "outputs": [],
   "source": [
    "df.treatment.value_counts()"
   ]
  },
  {
   "cell_type": "code",
   "execution_count": null,
   "id": "0aef1b07",
   "metadata": {},
   "outputs": [],
   "source": [
    "plt.figure(figsize=(10,5))\n",
    "df.treatment.value_counts().plot(kind='pie',autopct='%0.2f%%')\n",
    "plt.title('Have sought treatment for a mental health condition?',fontsize=15)\n",
    "plt.show()"
   ]
  },
  {
   "cell_type": "markdown",
   "id": "f0592b13",
   "metadata": {},
   "source": [
    "50% employeses Have sought treatment for a mental health condition"
   ]
  },
  {
   "cell_type": "markdown",
   "id": "f7b37ff8",
   "metadata": {},
   "source": [
    "###  Work interfere"
   ]
  },
  {
   "cell_type": "code",
   "execution_count": null,
   "id": "5fbea7ac",
   "metadata": {},
   "outputs": [],
   "source": [
    "df.work_interfere.value_counts()"
   ]
  },
  {
   "cell_type": "code",
   "execution_count": null,
   "id": "b5749fe3",
   "metadata": {
    "scrolled": true
   },
   "outputs": [],
   "source": [
    "plt.figure(figsize=(10,5))\n",
    "df.work_interfere.value_counts().plot(kind='pie',autopct='%0.2f%%')\n",
    "plt.title('Interference of Mental health condition on Work?',fontsize=15)\n",
    "plt.show()"
   ]
  },
  {
   "cell_type": "markdown",
   "id": "ed59d166",
   "metadata": {},
   "source": [
    "78 % of employees have experienced some sort of work interference due to mental illness"
   ]
  },
  {
   "cell_type": "markdown",
   "id": "0f37fe0a",
   "metadata": {},
   "source": [
    "### No_employees"
   ]
  },
  {
   "cell_type": "code",
   "execution_count": null,
   "id": "771435be",
   "metadata": {},
   "outputs": [],
   "source": [
    "df.no_employees.value_counts()"
   ]
  },
  {
   "cell_type": "code",
   "execution_count": null,
   "id": "32c8ef55",
   "metadata": {},
   "outputs": [],
   "source": [
    "plt.figure(figsize=(12,6))\n",
    "sns.countplot(x=df.no_employees)\n",
    "plt.title('No. of employees in company/organisation',fontsize=15)\n",
    "plt.show()"
   ]
  },
  {
   "cell_type": "markdown",
   "id": "2f6a932a",
   "metadata": {},
   "source": [
    "Most people work in a small employerss group(<100) and followed by large group(>1000) employees"
   ]
  },
  {
   "cell_type": "markdown",
   "id": "4952beea",
   "metadata": {},
   "source": [
    "### Remote work"
   ]
  },
  {
   "cell_type": "code",
   "execution_count": null,
   "id": "6f464128",
   "metadata": {},
   "outputs": [],
   "source": [
    "df.remote_work.value_counts()"
   ]
  },
  {
   "cell_type": "code",
   "execution_count": null,
   "id": "9c32aee8",
   "metadata": {
    "scrolled": true
   },
   "outputs": [],
   "source": [
    "plt.figure(figsize=(10,5))\n",
    "df.remote_work.value_counts().plot(kind='pie',autopct='%0.2f%%')\n",
    "plt.title('Work outside office',fontsize=15)\n",
    "plt.show()"
   ]
  },
  {
   "cell_type": "markdown",
   "id": "158c3da0",
   "metadata": {},
   "source": [
    " Only 30% of people are able to work remotely"
   ]
  },
  {
   "cell_type": "markdown",
   "id": "a1173a66",
   "metadata": {},
   "source": [
    "### Tech company"
   ]
  },
  {
   "cell_type": "code",
   "execution_count": null,
   "id": "646ad3eb",
   "metadata": {},
   "outputs": [],
   "source": [
    "df.tech_company.value_counts()"
   ]
  },
  {
   "cell_type": "code",
   "execution_count": null,
   "id": "55730e4e",
   "metadata": {
    "scrolled": true
   },
   "outputs": [],
   "source": [
    "plt.figure(figsize=(10,5))\n",
    "df.tech_company.value_counts().plot(kind='pie',autopct='%0.2f%%')\n",
    "plt.title('Primarily a tech company/organization?',fontsize=15)\n",
    "plt.show()"
   ]
  },
  {
   "cell_type": "markdown",
   "id": "1f36a80f",
   "metadata": {},
   "source": [
    "82% of employer is primarily a tech company/organization"
   ]
  },
  {
   "cell_type": "markdown",
   "id": "6a550ec8",
   "metadata": {},
   "source": [
    "### Benefits"
   ]
  },
  {
   "cell_type": "code",
   "execution_count": null,
   "id": "78543b55",
   "metadata": {},
   "outputs": [],
   "source": [
    "df.benefits.value_counts()"
   ]
  },
  {
   "cell_type": "code",
   "execution_count": null,
   "id": "abbd7a7e",
   "metadata": {
    "scrolled": true
   },
   "outputs": [],
   "source": [
    "plt.figure(figsize=(10,5))\n",
    "df.benefits.value_counts().plot(kind='pie',autopct='%0.2f%%')\n",
    "plt.title('Does employer provide mental health benefits?',fontsize=15)\n",
    "plt.show()"
   ]
  },
  {
   "cell_type": "markdown",
   "id": "b2bbb09c",
   "metadata": {},
   "source": [
    "38% of employees have been provided with mental health benifits \n",
    "32% of employeers don't know about the mental helath benifits provided by the employeers. Which shows the lack of awarness"
   ]
  },
  {
   "cell_type": "markdown",
   "id": "000dc0ed",
   "metadata": {},
   "source": [
    "### Care options"
   ]
  },
  {
   "cell_type": "code",
   "execution_count": null,
   "id": "6538e34a",
   "metadata": {},
   "outputs": [],
   "source": [
    "df.care_options.value_counts()"
   ]
  },
  {
   "cell_type": "code",
   "execution_count": null,
   "id": "50996777",
   "metadata": {
    "scrolled": true
   },
   "outputs": [],
   "source": [
    "plt.figure(figsize=(10,5))\n",
    "df.care_options.value_counts().plot(kind='pie',autopct='%0.2f%%')\n",
    "plt.title('Know about the options provided for mental health care?',fontsize=15)\n",
    "plt.show()"
   ]
  },
  {
   "cell_type": "markdown",
   "id": "e14b59ce",
   "metadata": {},
   "source": [
    "Only 35% of employees know about the options for mental health care their employer provides.\n",
    "This shows lack of awarness amoung employees"
   ]
  },
  {
   "cell_type": "markdown",
   "id": "52b766f5",
   "metadata": {},
   "source": [
    "### Wellness program"
   ]
  },
  {
   "cell_type": "code",
   "execution_count": null,
   "id": "bd8df923",
   "metadata": {},
   "outputs": [],
   "source": [
    "df.wellness_program.value_counts()"
   ]
  },
  {
   "cell_type": "code",
   "execution_count": null,
   "id": "1cc68058",
   "metadata": {
    "scrolled": true
   },
   "outputs": [],
   "source": [
    "plt.figure(figsize=(10,5))\n",
    "df.wellness_program.value_counts().plot(kind='pie',autopct='%0.2f%%')\n",
    "plt.title(' Have discussed mental health as part of wellness program?',fontsize=15)\n",
    "plt.show()"
   ]
  },
  {
   "cell_type": "markdown",
   "id": "bea75ed4",
   "metadata": {},
   "source": [
    "67% of employer have not discussed mental health as part of an employee wellness program.\n",
    " Mental health is not given as much importance as physical health by employess"
   ]
  },
  {
   "cell_type": "markdown",
   "id": "a5628f8c",
   "metadata": {},
   "source": [
    "###  Seek help"
   ]
  },
  {
   "cell_type": "code",
   "execution_count": null,
   "id": "3003f9d8",
   "metadata": {},
   "outputs": [],
   "source": [
    "df.seek_help.value_counts()"
   ]
  },
  {
   "cell_type": "code",
   "execution_count": null,
   "id": "61f94e02",
   "metadata": {
    "scrolled": true
   },
   "outputs": [],
   "source": [
    "plt.figure(figsize=(10,5))\n",
    "df.seek_help.value_counts().plot(kind='pie',autopct='%0.2f%%')\n",
    "plt.title('Provide resources to learn more about mental health issues and how to seek help?',fontsize=15)\n",
    "plt.show()"
   ]
  },
  {
   "cell_type": "markdown",
   "id": "631883a4",
   "metadata": {},
   "source": [
    "Only 20% of employers provide resources to learn more about mental health issues and how to seek help"
   ]
  },
  {
   "cell_type": "markdown",
   "id": "f1ce19f7",
   "metadata": {},
   "source": [
    "### Anonymity "
   ]
  },
  {
   "cell_type": "code",
   "execution_count": null,
   "id": "ec9ffb34",
   "metadata": {},
   "outputs": [],
   "source": [
    "df.anonymity.value_counts()"
   ]
  },
  {
   "cell_type": "code",
   "execution_count": null,
   "id": "1f87e705",
   "metadata": {
    "scrolled": false
   },
   "outputs": [],
   "source": [
    "plt.subplots(1,2,figsize=(14,6))\n",
    "\n",
    "plt.subplot(121)\n",
    "df.anonymity.value_counts().plot(kind='pie',autopct='%0.2f%%')\n",
    "\n",
    "plt.subplot(122)\n",
    "sns.countplot(x=df.anonymity)\n",
    "\n",
    "plt.suptitle('Is anonymity protected ? ', fontsize=15)\n",
    "plt.show()"
   ]
  },
  {
   "cell_type": "markdown",
   "id": "8d6678f5",
   "metadata": {},
   "source": [
    "65% of employees are unaware about anaonymity protection provided by employers\n",
    "Out of aware employees, majority of the employers provide anonymity protection"
   ]
  },
  {
   "cell_type": "markdown",
   "id": "69e6d508",
   "metadata": {},
   "source": [
    "### Leave "
   ]
  },
  {
   "cell_type": "code",
   "execution_count": null,
   "id": "08d63f09",
   "metadata": {},
   "outputs": [],
   "source": [
    "df.leave.value_counts()"
   ]
  },
  {
   "cell_type": "code",
   "execution_count": null,
   "id": "cf29f081",
   "metadata": {
    "scrolled": true
   },
   "outputs": [],
   "source": [
    "plt.figure(figsize=(10,5))\n",
    "df.leave.value_counts().plot(kind='pie',autopct='%0.2f%%')\n",
    "plt.title('Ease of leave for mental health condition',fontsize=15)\n",
    "plt.show()"
   ]
  },
  {
   "cell_type": "markdown",
   "id": "57ad9b2f",
   "metadata": {},
   "source": [
    "45% of the employees are ignorant about the easy of leave to take leave for medical health conditions\n",
    "Out of the known employees, majority of employees have ease in applying leave for mental health conditions"
   ]
  },
  {
   "cell_type": "markdown",
   "id": "4123db64",
   "metadata": {},
   "source": [
    "### Mental Health Consequence\n",
    "       "
   ]
  },
  {
   "cell_type": "code",
   "execution_count": null,
   "id": "bb79173f",
   "metadata": {},
   "outputs": [],
   "source": [
    "df.mental_health_consequence.value_counts()"
   ]
  },
  {
   "cell_type": "code",
   "execution_count": null,
   "id": "0b4cc6fe",
   "metadata": {
    "scrolled": true
   },
   "outputs": [],
   "source": [
    "plt.figure(figsize=(10,5))\n",
    "df.mental_health_consequence.value_counts().plot(kind='pie',autopct='%0.2f%%')\n",
    "plt.title('Does discussing a mental health issue with employerhave negative consequences ?',fontsize=15)\n",
    "plt.show()"
   ]
  },
  {
   "cell_type": "markdown",
   "id": "3e8e1eb3",
   "metadata": {},
   "source": [
    "39% of employees think that discussing a mental health issue with your employer would not have negative consequences\n",
    "But 38% of employees  think that discussing a mental health issue with your employer would have negative consequences which shows the stigma around mental health"
   ]
  },
  {
   "cell_type": "markdown",
   "id": "76fbb32e",
   "metadata": {},
   "source": [
    "### Physical Health Consequence"
   ]
  },
  {
   "cell_type": "code",
   "execution_count": null,
   "id": "421cc68d",
   "metadata": {},
   "outputs": [],
   "source": [
    "df.phys_health_consequence.value_counts()"
   ]
  },
  {
   "cell_type": "code",
   "execution_count": null,
   "id": "373bc4a0",
   "metadata": {
    "scrolled": true
   },
   "outputs": [],
   "source": [
    "plt.figure(figsize=(10,5))\n",
    "df.phys_health_consequence.value_counts().plot(kind='pie',autopct='%0.2f%%')\n",
    "plt.title('Does discussing a physical health issue with employerhave negative consequences ?',fontsize=15)\n",
    "plt.show()"
   ]
  },
  {
   "cell_type": "markdown",
   "id": "f61c474d",
   "metadata": {},
   "source": [
    "74% of employees think that discussing a physical health issue with your employer would have no negative consequences\n",
    "This shows that majority of employees have no problem in discussing physical health with employers"
   ]
  },
  {
   "cell_type": "markdown",
   "id": "3dc149c8",
   "metadata": {},
   "source": [
    "###  Coworkers "
   ]
  },
  {
   "cell_type": "code",
   "execution_count": null,
   "id": "ba6be023",
   "metadata": {},
   "outputs": [],
   "source": [
    "df.coworkers.value_counts()"
   ]
  },
  {
   "cell_type": "code",
   "execution_count": null,
   "id": "09966221",
   "metadata": {},
   "outputs": [],
   "source": [
    "plt.figure(figsize=(10,5))\n",
    "df.coworkers.value_counts().plot(kind='pie',autopct='%0.2f%%')\n",
    "plt.title('Willing to discuss a mental health issue with coworkers?',fontsize=15)\n",
    "plt.show()"
   ]
  },
  {
   "cell_type": "markdown",
   "id": "41f083e1",
   "metadata": {},
   "source": [
    "Only 18 % of the employees are willing to discuss a mental health issue with coworkers\n",
    "61.5 % of the employees are willing to discuss a mental health issue with some of the coworkers meaning that they are willing to openly dicuss it with everyone"
   ]
  },
  {
   "cell_type": "markdown",
   "id": "196e4ad6",
   "metadata": {},
   "source": [
    "### Supervisor\n",
    "       "
   ]
  },
  {
   "cell_type": "code",
   "execution_count": null,
   "id": "7467abb1",
   "metadata": {},
   "outputs": [],
   "source": [
    "df.supervisor.value_counts()"
   ]
  },
  {
   "cell_type": "code",
   "execution_count": null,
   "id": "f0c215cb",
   "metadata": {
    "scrolled": true
   },
   "outputs": [],
   "source": [
    "plt.figure(figsize=(10,5))\n",
    "df.supervisor.value_counts().plot(kind='pie',autopct='%0.2f%%')\n",
    "plt.title('Willing to discuss a mental health issue with direct supervisor?',fontsize=15)\n",
    "plt.show()"
   ]
  },
  {
   "cell_type": "markdown",
   "id": "2b2eb724",
   "metadata": {},
   "source": [
    "41% of employees are willing to discuss a mental health issue with your direct supervisor(s), which is a good sign\n",
    "31% of employees are not willing to discuss a mental health issue with your direct supervisor(s)"
   ]
  },
  {
   "cell_type": "markdown",
   "id": "ea72146c",
   "metadata": {},
   "source": [
    "### Mental Health Interview"
   ]
  },
  {
   "cell_type": "code",
   "execution_count": null,
   "id": "f067c642",
   "metadata": {},
   "outputs": [],
   "source": [
    "df.mental_health_interview.value_counts()"
   ]
  },
  {
   "cell_type": "code",
   "execution_count": null,
   "id": "dfbd353f",
   "metadata": {
    "scrolled": true
   },
   "outputs": [],
   "source": [
    "plt.figure(figsize=(10,5))\n",
    "df.mental_health_interview.value_counts().plot(kind='pie',autopct='%0.2f%%')\n",
    "plt.title('Talk about mental health issue in an interview?',fontsize=15)\n",
    "plt.show()"
   ]
  },
  {
   "cell_type": "markdown",
   "id": "198c459b",
   "metadata": {},
   "source": [
    "80% of employees are not willing to bring up a mental health issue with a potential employer in an interview.\n",
    "Only 3%  of employees are willing to bring up a mental health issue with a potential employer in an interview.\n",
    "16.5% of employees are open to bring up a mental health issue with a potential employer in an interview.\n",
    "This show the stigma around mental health."
   ]
  },
  {
   "cell_type": "markdown",
   "id": "819bba52",
   "metadata": {},
   "source": [
    "###  Physical Health Interview\n",
    "       "
   ]
  },
  {
   "cell_type": "code",
   "execution_count": null,
   "id": "ece1faad",
   "metadata": {},
   "outputs": [],
   "source": [
    "df.phys_health_interview.value_counts()"
   ]
  },
  {
   "cell_type": "code",
   "execution_count": null,
   "id": "5f91aca0",
   "metadata": {
    "scrolled": true
   },
   "outputs": [],
   "source": [
    "plt.figure(figsize=(10,5))\n",
    "df.phys_health_interview.value_counts().plot(kind='pie',autopct='%0.2f%%')\n",
    "plt.title('Talk about physical health issue in an interview?',fontsize=15)\n",
    "plt.show()"
   ]
  },
  {
   "cell_type": "markdown",
   "id": "c357a51c",
   "metadata": {},
   "source": [
    "Only 40% of employees are not willing to bring up a physical health issue with a potential employer in an interview which is half of the people are not willing to bring up a mental health issue with a potential employer in an interview.\n",
    "16% of employees are willing to bring up a physical health issue with a potential employer in an interview which is 5 times that of mental health issues interview.\n",
    "44% of employees are open to bring up a physical health issue with a potential employer in an interview.\n",
    "This shows discrimination between physical and mental health issues in employees view."
   ]
  },
  {
   "cell_type": "markdown",
   "id": "98eefb57",
   "metadata": {},
   "source": [
    "### Mental vs Physical "
   ]
  },
  {
   "cell_type": "code",
   "execution_count": null,
   "id": "87224bf8",
   "metadata": {},
   "outputs": [],
   "source": [
    "df.mental_vs_physical.value_counts()"
   ]
  },
  {
   "cell_type": "code",
   "execution_count": null,
   "id": "596fc96b",
   "metadata": {},
   "outputs": [],
   "source": [
    "plt.figure(figsize=(10,5))\n",
    "df.mental_vs_physical.value_counts().plot(kind='pie',autopct='%0.2f%%')\n",
    "plt.title('Is mental health as seriously as physical health?',fontsize=15)\n",
    "plt.show()"
   ]
  },
  {
   "cell_type": "markdown",
   "id": "c045b396",
   "metadata": {},
   "source": [
    "46 % of employees don't know about the opinion of employer.Remaining employees have  uniform opinion abouthow their employers takes mental health as seriously as physical health. "
   ]
  },
  {
   "cell_type": "markdown",
   "id": "b5867e31",
   "metadata": {},
   "source": [
    "### Observed Consequence"
   ]
  },
  {
   "cell_type": "code",
   "execution_count": null,
   "id": "6ab57356",
   "metadata": {},
   "outputs": [],
   "source": [
    "df.obs_consequence.value_counts()"
   ]
  },
  {
   "cell_type": "code",
   "execution_count": null,
   "id": "dd6c3148",
   "metadata": {},
   "outputs": [],
   "source": [
    "plt.figure(figsize=(10,5))\n",
    "df.obs_consequence.value_counts().plot(kind='pie',autopct='%0.2f%%')\n",
    "plt.title('Heard of or observed negative consequences for coworkers with mental health conditions',fontsize=15)\n",
    "plt.show()"
   ]
  },
  {
   "cell_type": "markdown",
   "id": "0ea65781",
   "metadata": {},
   "source": [
    "85.5% of employees have not heard of or observed negative consequences for coworkers with mental health conditions.\n",
    "Shows that mental health of a person is not affecting coworkers."
   ]
  },
  {
   "cell_type": "markdown",
   "id": "41d9d79b",
   "metadata": {},
   "source": [
    "### Bivariant Analysis"
   ]
  },
  {
   "cell_type": "markdown",
   "id": "1c6877d5",
   "metadata": {},
   "source": [
    "### Age Vs Gender"
   ]
  },
  {
   "cell_type": "code",
   "execution_count": null,
   "id": "a151d582",
   "metadata": {},
   "outputs": [],
   "source": [
    "plt.figure(figsize=(10,5))\n",
    "sns.boxplot(x=df.Gender,y=df.Age)\n",
    "plt.title('Variation of Age wrt Gender',fontsize=15)\n",
    "plt.show()"
   ]
  },
  {
   "cell_type": "markdown",
   "id": "a6e39735",
   "metadata": {},
   "source": [
    "The  age of male employees has higher median , we can say that on average age of male employee is higher.<br> \n",
    "Minumum age of female n nale employee facing health issue is 20\n"
   ]
  },
  {
   "cell_type": "code",
   "execution_count": null,
   "id": "b0598d58",
   "metadata": {},
   "outputs": [],
   "source": [
    "plt.figure(figsize=(14,7))\n",
    "sns.boxplot(x=df.Country,y=df.Age)\n",
    "plt.xticks(rotation=75)\n",
    "plt.title('Distribution of Age wrt Country',fontsize=15)\n",
    "plt.show()"
   ]
  },
  {
   "cell_type": "markdown",
   "id": "5f141187",
   "metadata": {},
   "source": [
    "Employees with age >50 are from USA. USA has the maximum age interval of employees. This may be due to a more number of responses from USA."
   ]
  },
  {
   "cell_type": "markdown",
   "id": "8e60b6df",
   "metadata": {},
   "source": [
    "### Age Vs Self Employed"
   ]
  },
  {
   "cell_type": "code",
   "execution_count": null,
   "id": "30b26c18",
   "metadata": {},
   "outputs": [],
   "source": [
    "plt.figure(figsize=(10,5))\n",
    "sns.boxplot(x=df.self_employed,y=df.Age)\n",
    "plt.title('Variation of Age wrt employement status',fontsize=15)\n",
    "plt.show()"
   ]
  },
  {
   "cell_type": "markdown",
   "id": "0b8d1464",
   "metadata": {},
   "source": [
    "The age of self-employed employees has higher median , we can say that on average age of self-employed employee is higher<br>Age of self-employed Employees ranges from 20 to 60 above.<br>Age of on self-employed Employees ranges 20 to 60"
   ]
  },
  {
   "cell_type": "markdown",
   "id": "8c4b5dbb",
   "metadata": {},
   "source": [
    "### Age Vs Family History"
   ]
  },
  {
   "cell_type": "code",
   "execution_count": null,
   "id": "a2cfe996",
   "metadata": {},
   "outputs": [],
   "source": [
    "plt.figure(figsize=(10,5))\n",
    "sns.boxplot(x=df['family_history'],y=df['Age'])\n",
    "plt.title('Variation of Age wrt Family history',fontsize=15)\n",
    "plt.show()"
   ]
  },
  {
   "cell_type": "markdown",
   "id": "48e07b9a",
   "metadata": {},
   "source": [
    "The age of employees with  family history 0f mental health is slighly  higher median ,thus we can say that average age of employee having no family history id 35.\n",
    "The overall range for the employess with no family history is higher but the IQR has lower values.  "
   ]
  },
  {
   "cell_type": "markdown",
   "id": "fb5869ab",
   "metadata": {},
   "source": [
    "### Age Vs Treatment"
   ]
  },
  {
   "cell_type": "code",
   "execution_count": null,
   "id": "acd15f95",
   "metadata": {},
   "outputs": [],
   "source": [
    "plt.figure(figsize=(10,5))\n",
    "sns.boxplot(x=df.treatment,y=df.Age)\n",
    "plt.title('Variation of Age wrt Treatment',fontsize=15)\n",
    "plt.show()"
   ]
  },
  {
   "cell_type": "markdown",
   "id": "ffde8a24",
   "metadata": {},
   "source": [
    "The average age of  employees  who have sought their treatment is slighly higher.<br>\n",
    "Age of employee who have not sought their treatment can be above 60"
   ]
  },
  {
   "cell_type": "markdown",
   "id": "1f04d881",
   "metadata": {},
   "source": [
    "### Age Vs Work_interfere"
   ]
  },
  {
   "cell_type": "code",
   "execution_count": null,
   "id": "932c06c8",
   "metadata": {},
   "outputs": [],
   "source": [
    "plt.figure(figsize=(10,5))\n",
    "sns.boxplot(x=df.work_interfere,y=df.Age)\n",
    "plt.title('Variation of Age wrt Work Interference',fontsize=15)\n",
    "plt.show()"
   ]
  },
  {
   "cell_type": "markdown",
   "id": "01cf0147",
   "metadata": {},
   "source": [
    "Employees who has never faced work interference are of slightly lower age "
   ]
  },
  {
   "cell_type": "markdown",
   "id": "02c1990f",
   "metadata": {},
   "source": [
    "### Age Vs No of Employees"
   ]
  },
  {
   "cell_type": "code",
   "execution_count": null,
   "id": "46ea376a",
   "metadata": {},
   "outputs": [],
   "source": [
    "plt.figure(figsize=(12,6))\n",
    "sns.boxplot(x=df.no_employees,y=df.Age)\n",
    "plt.title('Variation of Age wrt Employees',fontsize=15)\n",
    "plt.show()"
   ]
  },
  {
   "cell_type": "markdown",
   "id": "bbb1a129",
   "metadata": {},
   "source": [
    "The average age of  employees in organization having more than 1000 employees is  higher.<br>\n",
    "Maximun age of employee in organization having more than 1000 employees ranges upto 60.<br>\n",
    "Maximun age of employee in organization having 6-25 employees ranges above 60"
   ]
  },
  {
   "cell_type": "markdown",
   "id": "23a4a45b",
   "metadata": {},
   "source": [
    "### Age Vs Remote work"
   ]
  },
  {
   "cell_type": "code",
   "execution_count": null,
   "id": "7d5e5b3c",
   "metadata": {},
   "outputs": [],
   "source": [
    "plt.figure(figsize=(10,5))\n",
    "sns.boxplot(x=df.remote_work,y=df.Age)\n",
    "plt.title('Variation of Age wrt Remote work',fontsize=15)\n",
    "plt.show()"
   ]
  },
  {
   "cell_type": "markdown",
   "id": "998c36c7",
   "metadata": {},
   "source": [
    "The average age of  employees  work remotely (outside of an office) is slighly higher.<br>\n",
    "Age of employees who are allowed to work remotely are above"
   ]
  },
  {
   "cell_type": "markdown",
   "id": "11410b68",
   "metadata": {},
   "source": [
    "### Age Vs Tech Company"
   ]
  },
  {
   "cell_type": "code",
   "execution_count": null,
   "id": "85f70946",
   "metadata": {},
   "outputs": [],
   "source": [
    "plt.figure(figsize=(10,5))\n",
    "sns.boxplot(x=df.tech_company,y=df.Age)\n",
    "plt.title('Variation of Age wrt Tech company',fontsize=15)\n",
    "plt.show()"
   ]
  },
  {
   "cell_type": "markdown",
   "id": "0f773ec1",
   "metadata": {},
   "source": [
    "On average the employees whose employers are not  a tech company/organization  have high age <br>\n",
    "Minimum age of employee whose employers are not  a tech company/organization is 20 "
   ]
  },
  {
   "cell_type": "markdown",
   "id": "42249263",
   "metadata": {},
   "source": [
    "### Age Vs Benefits"
   ]
  },
  {
   "cell_type": "code",
   "execution_count": null,
   "id": "a04942f7",
   "metadata": {},
   "outputs": [],
   "source": [
    "plt.figure(figsize=(10,5))\n",
    "sns.boxplot(x=df.benefits,y=df.Age)\n",
    "plt.title('Variation of Age wrt recognition of Benfits',fontsize=15)\n",
    "plt.show()"
   ]
  },
  {
   "cell_type": "markdown",
   "id": "2aa26519",
   "metadata": {},
   "source": [
    "On an average the age of employees who know about the mental helath benifits provided by the employeer is higher.<br> \n",
    "The centre of distribution Yes is the highest of the three distributions (median is 32).The distribution  is negatively skewed because the whisker and half-box are longer on the left side of the median than on the right side.<br>\n",
    "Majority of employes above age 55 know about the mental helath benifits provided by the employeer is higher.\n"
   ]
  },
  {
   "cell_type": "markdown",
   "id": "ce09b3d0",
   "metadata": {},
   "source": [
    "### Age Vs Care options"
   ]
  },
  {
   "cell_type": "code",
   "execution_count": null,
   "id": "57249860",
   "metadata": {},
   "outputs": [],
   "source": [
    "plt.figure(figsize=(10,5))\n",
    "sns.boxplot(x=df.care_options,y=df.Age)\n",
    "plt.title('Variation of Age wrt Care options',fontsize=15)\n",
    "plt.show()"
   ]
  },
  {
   "cell_type": "markdown",
   "id": "fa86f2c7",
   "metadata": {},
   "source": [
    "On an average the age of employees who know about the mental helath care options provided by the employeer is higher.<br>\n",
    "The centre of distribution Yes is the highest of the three distributions (median is 32).The distribution  is negatively skewed because the whisker and half-box are longer on the left side of the median than on the right side.<br>\n",
    "Distribution of age of employees who are not sure and dont know about careoptions  is approximately symmetric, because both half-boxes are almost the same.<br> \n",
    "Age employees who dont know about gealth care options ranges above 60."
   ]
  },
  {
   "cell_type": "markdown",
   "id": "ea45f1f4",
   "metadata": {},
   "source": [
    "### Age Vs Wellness_program"
   ]
  },
  {
   "cell_type": "code",
   "execution_count": null,
   "id": "665a4a2a",
   "metadata": {},
   "outputs": [],
   "source": [
    "plt.figure(figsize=(10,5))\n",
    "sns.boxplot(x=df.wellness_program,y=df.Age)\n",
    "plt.title('Variation of Age wrt Wellness program',fontsize=15)\n",
    "plt.show()"
   ]
  },
  {
   "cell_type": "markdown",
   "id": "92342be5",
   "metadata": {},
   "source": [
    "On an average the age of employees whose employer  discussed mental health as part of an employee wellness program is higher.<br>\n",
    "The centre of distribution of age of employyes whose employer  discussed mental health is the highest of the three distributions (median is 32).The distribution  is negatively skewed because the whisker and half-box are longer on the left side of the median than on the right side.<br>\n",
    "There are employees above age 48 whose employes did not discuss with them about mental health as part of wellnes sprogram"
   ]
  },
  {
   "cell_type": "markdown",
   "id": "a21da879",
   "metadata": {},
   "source": [
    "### Age Vs Seek help"
   ]
  },
  {
   "cell_type": "code",
   "execution_count": null,
   "id": "0ad1695e",
   "metadata": {},
   "outputs": [],
   "source": [
    "plt.figure(figsize=(10,5))\n",
    "sns.boxplot(x=df.seek_help,y=df.Age)\n",
    "plt.title('Variation of Age wrt Seek help',fontsize=15)\n",
    "plt.show()"
   ]
  },
  {
   "cell_type": "markdown",
   "id": "9160d9fd",
   "metadata": {},
   "source": [
    "Average age of employees whose employer provide resources to learn more about mental health issues are higher .\n",
    "<br>Few employees above age 50 dont know about the resources that employer provide to learn about health issue and how to seek help.\n",
    "<br>Majority of employees of age above 48 are those whose employer does not  provide resources to learn more about mental health issues are higher ."
   ]
  },
  {
   "cell_type": "markdown",
   "id": "9be5fddd",
   "metadata": {},
   "source": [
    "### Age Vs Anonymity"
   ]
  },
  {
   "cell_type": "code",
   "execution_count": null,
   "id": "e2bd6507",
   "metadata": {},
   "outputs": [],
   "source": [
    "plt.figure(figsize=(10,5))\n",
    "sns.boxplot(x=df.anonymity,y=df.Age)\n",
    "plt.title('Variation of Age wrt Anonymity',fontsize=15)\n",
    "plt.show()"
   ]
  },
  {
   "cell_type": "code",
   "execution_count": null,
   "id": "3f51277b",
   "metadata": {},
   "outputs": [],
   "source": [
    "#majority of employee above age 48 dont know about anonymity\n"
   ]
  },
  {
   "cell_type": "markdown",
   "id": "19aa49d0",
   "metadata": {},
   "source": [
    "### Age Vs Leave"
   ]
  },
  {
   "cell_type": "code",
   "execution_count": null,
   "id": "d08a5b6b",
   "metadata": {},
   "outputs": [],
   "source": [
    "plt.figure(figsize=(12,6))\n",
    "sns.boxplot(x=df.leave,y=df.Age)\n",
    "plt.show()"
   ]
  },
  {
   "cell_type": "code",
   "execution_count": null,
   "id": "80cd4ec1",
   "metadata": {},
   "outputs": [],
   "source": []
  },
  {
   "cell_type": "markdown",
   "id": "6b2708e2",
   "metadata": {},
   "source": [
    "### Age Vs Mental_health_consequence"
   ]
  },
  {
   "cell_type": "code",
   "execution_count": null,
   "id": "f9a0ba53",
   "metadata": {},
   "outputs": [],
   "source": [
    "sns.boxplot(x=df.mental_health_consequence,y=df.Age)\n",
    "plt.show()"
   ]
  },
  {
   "cell_type": "markdown",
   "id": "d41696f1",
   "metadata": {},
   "source": [
    "Average age of employee who think think that discussing a mental health issue with your employer would have negative consequences is high.\n",
    "Majority of employee above age 50 think that it might be possible to have negative consequences with employer if they discuss about mental health "
   ]
  },
  {
   "cell_type": "markdown",
   "id": "e20c938c",
   "metadata": {},
   "source": [
    "### Age Vs Physical_health_consequence"
   ]
  },
  {
   "cell_type": "code",
   "execution_count": null,
   "id": "7af7f036",
   "metadata": {},
   "outputs": [],
   "source": [
    "sns.boxplot(x=df.phys_health_consequence,y=df.Age)\n",
    "plt.show()"
   ]
  },
  {
   "cell_type": "markdown",
   "id": "843b039d",
   "metadata": {},
   "source": [
    "Majority of employees about age 48 think think that discussing about physical health issue with your employer would not  have negative consequences is high"
   ]
  },
  {
   "cell_type": "markdown",
   "id": "d8f4280c",
   "metadata": {},
   "source": [
    "### Age Vs Coworkers"
   ]
  },
  {
   "cell_type": "code",
   "execution_count": null,
   "id": "3309221d",
   "metadata": {},
   "outputs": [],
   "source": [
    "sns.boxplot(x=df.coworkers,y=df.Age)\n",
    "plt.show()"
   ]
  },
  {
   "cell_type": "markdown",
   "id": "49005a96",
   "metadata": {},
   "source": [
    "Majotity of employees above age 50 will only be comforatable with some of the workers to discuss about mental health"
   ]
  },
  {
   "cell_type": "markdown",
   "id": "82bc509d",
   "metadata": {},
   "source": [
    "### Age Vs Supervisor"
   ]
  },
  {
   "cell_type": "code",
   "execution_count": null,
   "id": "c8cb7445",
   "metadata": {},
   "outputs": [],
   "source": [
    "sns.boxplot(x=df.supervisor,y=df.Age)\n",
    "plt.show()"
   ]
  },
  {
   "cell_type": "markdown",
   "id": "1f6c44c6",
   "metadata": {},
   "source": [
    "Some of the employees's age who are willing to discuss a mental health issue with  direct supervisor has highest average age.\n",
    "Majority of employees above age 50 are willing to discuss a mental health issue with  direct supervisor"
   ]
  },
  {
   "cell_type": "markdown",
   "id": "2106584d",
   "metadata": {},
   "source": [
    "### Age Vs Mental_health_interview"
   ]
  },
  {
   "cell_type": "code",
   "execution_count": null,
   "id": "48d9f3a9",
   "metadata": {},
   "outputs": [],
   "source": [
    "sns.boxplot(x=df.mental_health_interview,y=df.Age)\n",
    "plt.show()"
   ]
  },
  {
   "cell_type": "markdown",
   "id": "0f840886",
   "metadata": {},
   "source": [
    "Employees above age 50 will not bring up a mental health issue with a potential employer in an interview.\n",
    "Distribution employees age who are ready to bring up a mental health issue with a potential employer in an interviewis approximately symmetric, because both half-boxes are almost the same \n"
   ]
  },
  {
   "cell_type": "markdown",
   "id": "657a2526",
   "metadata": {},
   "source": [
    "### Age Vs Physical_health_interview"
   ]
  },
  {
   "cell_type": "code",
   "execution_count": null,
   "id": "91bc80af",
   "metadata": {},
   "outputs": [],
   "source": [
    "sns.boxplot(x=df.phys_health_interview,y=df.Age)\n",
    "plt.show()"
   ]
  },
  {
   "cell_type": "markdown",
   "id": "a1732ed2",
   "metadata": {},
   "source": [
    "Average age of employees who are not willing to bring up a physical health issue with a potential employer in an interview is higher.\n",
    "Age of employees who are not willing to bring up a physical health issue with a potential employer in an interview ranges above 60\n"
   ]
  },
  {
   "cell_type": "markdown",
   "id": "57808daf",
   "metadata": {},
   "source": [
    "### Age Vs Mental_health and Physical_health"
   ]
  },
  {
   "cell_type": "code",
   "execution_count": null,
   "id": "b831e3ee",
   "metadata": {},
   "outputs": [],
   "source": [
    "sns.boxplot(x=df.mental_vs_physical,y=df.Age)\n",
    "plt.show()"
   ]
  },
  {
   "cell_type": "markdown",
   "id": "1f737502",
   "metadata": {},
   "source": [
    "Average of empoyer who does not takes mental health as seriously as physical health is higher .\n",
    "Majority of employers above age 48 takes mental health as seriously as physical health"
   ]
  },
  {
   "cell_type": "markdown",
   "id": "ca5ad623",
   "metadata": {},
   "source": [
    "### Age Vs Obesity_consequence"
   ]
  },
  {
   "cell_type": "code",
   "execution_count": null,
   "id": "790b6024",
   "metadata": {},
   "outputs": [],
   "source": [
    "sns.boxplot(x=df.obs_consequence,y=df.Age)\n",
    "plt.show()"
   ]
  },
  {
   "cell_type": "markdown",
   "id": "414d981e",
   "metadata": {},
   "source": [
    "Majority of employees above age 50 did not  observed negative consequences for coworkers with mental health conditions in your workplace"
   ]
  },
  {
   "cell_type": "code",
   "execution_count": null,
   "id": "9800969f",
   "metadata": {},
   "outputs": [],
   "source": [
    "df.columns"
   ]
  },
  {
   "cell_type": "code",
   "execution_count": null,
   "id": "9d24e574",
   "metadata": {},
   "outputs": [],
   "source": [
    "df.head()"
   ]
  },
  {
   "cell_type": "markdown",
   "id": "319987fd",
   "metadata": {},
   "source": [
    "### Gender Vs Self_employed"
   ]
  },
  {
   "cell_type": "code",
   "execution_count": null,
   "id": "2c45497f",
   "metadata": {},
   "outputs": [],
   "source": [
    "pd.crosstab(df['self_employed'],df['Gender']).plot(kind='bar',figsize=(12,6))\n",
    "plt.show()"
   ]
  },
  {
   "cell_type": "markdown",
   "id": "a43c8cdf",
   "metadata": {},
   "source": [
    "Majority of males and females are not self employed."
   ]
  },
  {
   "cell_type": "code",
   "execution_count": null,
   "id": "75a1fd30",
   "metadata": {
    "scrolled": false
   },
   "outputs": [],
   "source": [
    "df.info()"
   ]
  },
  {
   "cell_type": "markdown",
   "id": "3bc9930f",
   "metadata": {},
   "source": [
    "### Gender Vs Family_history"
   ]
  },
  {
   "cell_type": "code",
   "execution_count": null,
   "id": "b92a7467",
   "metadata": {},
   "outputs": [],
   "source": [
    "pd.crosstab(df['family_history'],df['Gender']).plot(kind='bar',figsize=(12,6))\n",
    "plt.show()"
   ]
  },
  {
   "cell_type": "markdown",
   "id": "b7d34b1c",
   "metadata": {},
   "source": [
    "Majority of males have no family history of mental health issues.\n",
    "Slightly higher no. of females and other genders have family history of mental health issues."
   ]
  },
  {
   "cell_type": "markdown",
   "id": "93d284df",
   "metadata": {},
   "source": [
    "### Gender Vs Treatment"
   ]
  },
  {
   "cell_type": "code",
   "execution_count": null,
   "id": "157e03a9",
   "metadata": {},
   "outputs": [],
   "source": [
    "pd.crosstab(df['treatment'],df['Gender']).plot(kind='bar',figsize=(12,6))\n",
    "plt.show()"
   ]
  },
  {
   "cell_type": "markdown",
   "id": "0b5acb35",
   "metadata": {},
   "source": [
    "Higher no. of males are not undergoing any treatment regarding their mental health.\n",
    "Higher no of females and other  genders are undergoing any treatment regarding their mental health."
   ]
  },
  {
   "cell_type": "markdown",
   "id": "12e9a453",
   "metadata": {},
   "source": [
    "### Gender Vs Work_intrefere"
   ]
  },
  {
   "cell_type": "code",
   "execution_count": null,
   "id": "1bfea9f0",
   "metadata": {},
   "outputs": [],
   "source": [
    "pd.crosstab(df['work_interfere'],df['Gender']).plot(kind='bar',figsize=(12,6))\n",
    "plt.show()"
   ]
  },
  {
   "cell_type": "markdown",
   "id": "07ad4c70",
   "metadata": {},
   "source": [
    "All the genders are facing some kind of work interference"
   ]
  },
  {
   "cell_type": "markdown",
   "id": "3c74f0e7",
   "metadata": {},
   "source": [
    "### Gender Vs Remote_work"
   ]
  },
  {
   "cell_type": "code",
   "execution_count": null,
   "id": "f9d029a7",
   "metadata": {},
   "outputs": [],
   "source": [
    "pd.crosstab(df['remote_work'],df['Gender']).plot(kind='bar',figsize=(12,6))\n",
    "plt.show()"
   ]
  },
  {
   "cell_type": "markdown",
   "id": "008c018a",
   "metadata": {},
   "source": [
    "Similar distribution can be seen in all genders. We may conclude that working remotely is independent of gender."
   ]
  },
  {
   "cell_type": "markdown",
   "id": "1fe2cff8",
   "metadata": {},
   "source": [
    "### Gender Vs Tech_company"
   ]
  },
  {
   "cell_type": "code",
   "execution_count": null,
   "id": "ec95cdbd",
   "metadata": {},
   "outputs": [],
   "source": [
    "pd.crosstab(df['tech_company'],df['Gender']).plot(kind='bar',figsize=(12,6))\n",
    "plt.show()"
   ]
  },
  {
   "cell_type": "markdown",
   "id": "89c77d7a",
   "metadata": {},
   "source": [
    "Majority of the males are working in tech company/organization.\n",
    "The proportion of females working in tech companies is less than males."
   ]
  },
  {
   "cell_type": "markdown",
   "id": "acef8b89",
   "metadata": {},
   "source": [
    "### Gender Vs Benefits"
   ]
  },
  {
   "cell_type": "code",
   "execution_count": null,
   "id": "36b1579f",
   "metadata": {},
   "outputs": [],
   "source": [
    "pd.crosstab(df['benefits'],df['Gender']).plot(kind='bar',stacked=True,figsize=(12,6))\n",
    "plt.show()"
   ]
  },
  {
   "cell_type": "markdown",
   "id": "9dc1289f",
   "metadata": {},
   "source": [
    "Mental health benifits proportion is higher females.\n",
    "<br>Ratio of males who are unaware of about the mental health benifits provided by the employer is higher.\n",
    "<br>Mental health benifits provided by the employer may be gender depended."
   ]
  },
  {
   "cell_type": "markdown",
   "id": "92e418a8",
   "metadata": {},
   "source": [
    "### Gender Vs Care_options"
   ]
  },
  {
   "cell_type": "code",
   "execution_count": null,
   "id": "14295030",
   "metadata": {},
   "outputs": [],
   "source": [
    "pd.crosstab(df['care_options'],df['Gender']).plot(kind='bar',figsize=(12,6),stacked=True)\n",
    "plt.show()"
   ]
  },
  {
   "cell_type": "markdown",
   "id": "1c0c626a",
   "metadata": {},
   "source": [
    "Majority of the males don't know about the health care_options provided by employeer.\n",
    "Comparatively higher proportion of females known about health care_options."
   ]
  },
  {
   "cell_type": "markdown",
   "id": "48ea1191",
   "metadata": {},
   "source": [
    "### Gender Vs Wellness_program"
   ]
  },
  {
   "cell_type": "code",
   "execution_count": null,
   "id": "bfa15386",
   "metadata": {},
   "outputs": [],
   "source": [
    "pd.crosstab(df['wellness_program'],df['Gender']).plot(kind='bar',figsize=(12,6))\n",
    "plt.show()"
   ]
  },
  {
   "cell_type": "markdown",
   "id": "820a35e9",
   "metadata": {},
   "source": [
    "Similary distribution can be seen in all genders wrt wellness program. Hence we may conclude that employer discussion\n",
    "<br>on mental health as part of an employee wellness program is independent of gender."
   ]
  },
  {
   "cell_type": "markdown",
   "id": "8e997944",
   "metadata": {},
   "source": [
    "### Gender Vs Seek_help"
   ]
  },
  {
   "cell_type": "code",
   "execution_count": null,
   "id": "d4122f45",
   "metadata": {},
   "outputs": [],
   "source": [
    "pd.crosstab(df['seek_help'],df['Gender']).plot(kind='bar',figsize=(12,6))\n",
    "plt.show()"
   ]
  },
  {
   "cell_type": "markdown",
   "id": "badc86b7",
   "metadata": {},
   "source": [
    "Similary distribution can be seen in all genders wrt seek help. Hence we may conclude that employer providing resources to learn more about mental health issues and how to seek help is independent of gender."
   ]
  },
  {
   "cell_type": "markdown",
   "id": "7d0c8f5a",
   "metadata": {},
   "source": [
    "### Gender Vs Anonymity"
   ]
  },
  {
   "cell_type": "code",
   "execution_count": null,
   "id": "056b938f",
   "metadata": {},
   "outputs": [],
   "source": [
    "pd.crosstab(df['anonymity'],df['Gender']).plot(kind='bar',figsize=(12,6))\n",
    "plt.show()"
   ]
  },
  {
   "cell_type": "markdown",
   "id": "6e5028dc",
   "metadata": {},
   "source": [
    "Similary distribution can be seen in all genders wrt anonymity. Hence we may conclude that anonymity protection\n",
    "<br>if you choose to take advantage of mental health or substance abuse treat is independent of gender."
   ]
  },
  {
   "cell_type": "markdown",
   "id": "5a167098",
   "metadata": {},
   "source": [
    "### Gender Vs Leave"
   ]
  },
  {
   "cell_type": "code",
   "execution_count": null,
   "id": "fa0f0a5a",
   "metadata": {},
   "outputs": [],
   "source": [
    "pd.crosstab(df['leave'],df['Gender']).plot(kind='bar',figsize=(12,6))\n",
    "plt.show()"
   ]
  },
  {
   "cell_type": "markdown",
   "id": "ada7c275",
   "metadata": {},
   "source": [
    "There is no much difference in distribution of gender wrt to leave.\n",
    "We may say the easy of take medical leave for a mental health condition is independent of gender"
   ]
  },
  {
   "cell_type": "markdown",
   "id": "6e62d384",
   "metadata": {},
   "source": [
    "### Gender Vs Mental_health_consequence"
   ]
  },
  {
   "cell_type": "code",
   "execution_count": null,
   "id": "436447d2",
   "metadata": {},
   "outputs": [],
   "source": [
    "pd.crosstab(df['mental_health_consequence'],df['Gender']).plot(kind='bar',figsize=(12,6))\n",
    "plt.show()"
   ]
  },
  {
   "cell_type": "markdown",
   "id": "b35c2109",
   "metadata": {},
   "source": [
    "Higher no. of males think that discussing a mental health issue with your employer would not have negative consequences\n",
    "<br>Higher no. of females think that discussing a mental health issue with your employer might have negative consequences"
   ]
  },
  {
   "cell_type": "markdown",
   "id": "ddad6541",
   "metadata": {},
   "source": [
    "### Gender Vs Physical_health_consequence"
   ]
  },
  {
   "cell_type": "code",
   "execution_count": null,
   "id": "2ad9433a",
   "metadata": {},
   "outputs": [],
   "source": [
    "pd.crosstab(df['phys_health_consequence'],df['Gender']).plot(kind='bar',figsize=(12,6))\n",
    "plt.show()"
   ]
  },
  {
   "cell_type": "markdown",
   "id": "9cb0cc8e",
   "metadata": {},
   "source": [
    "In all genders, majority of the employees think that discussing a physical health issue with your employer would not have negative consequences"
   ]
  },
  {
   "cell_type": "markdown",
   "id": "c04a273f",
   "metadata": {},
   "source": [
    "### Gender Vs Coworkers"
   ]
  },
  {
   "cell_type": "code",
   "execution_count": null,
   "id": "d7846ec6",
   "metadata": {},
   "outputs": [],
   "source": [
    "pd.crosstab(df['coworkers'],df['Gender']).plot(kind='bar',figsize=(12,6))\n",
    "plt.show()"
   ]
  },
  {
   "cell_type": "markdown",
   "id": "89d655c5",
   "metadata": {},
   "source": [
    "All the gender employeers are mostly willing to discuss a mental health issue only with some of the coworkers."
   ]
  },
  {
   "cell_type": "markdown",
   "id": "5fd8b669",
   "metadata": {},
   "source": [
    "### Gender Vs Supervisor"
   ]
  },
  {
   "cell_type": "code",
   "execution_count": null,
   "id": "d9a2b897",
   "metadata": {},
   "outputs": [],
   "source": [
    "pd.crosstab(df['supervisor'],df['Gender']).plot(kind='bar',figsize=(12,6))\n",
    "plt.show()"
   ]
  },
  {
   "cell_type": "markdown",
   "id": "3d0ce028",
   "metadata": {},
   "source": [
    "Majority of males are willing to discuss a mental health issue with direct supervisor(s)\n",
    "<br>Proportion of females willing to discuss a mental health issue with direct supervisor(s) is less\n",
    "<br>There may be gender dependency on willingness to discuss a mental health issue with direct supervisor(s)"
   ]
  },
  {
   "cell_type": "markdown",
   "id": "8d17e07c",
   "metadata": {},
   "source": [
    "### Gender Vs Mental_health_interview"
   ]
  },
  {
   "cell_type": "code",
   "execution_count": null,
   "id": "f2279706",
   "metadata": {},
   "outputs": [],
   "source": [
    "pd.crosstab(df['mental_health_interview'],df['Gender']).plot(kind='bar',figsize=(12,6))\n",
    "plt.show()"
   ]
  },
  {
   "cell_type": "markdown",
   "id": "4f191883",
   "metadata": {},
   "source": [
    "Major no. of employees of all genders are not willing to bring up a mental health issue with a potential employer in an interview\n",
    "<br>Specifically, the proportion of females are not willing to bring up a mental health issue with a potential employer\n",
    "<br>in an interview,compared to other genders\n",
    "<br>We may say that willingness to bring up a mental health issue with a potential employer in an interview is genders dependent."
   ]
  },
  {
   "cell_type": "markdown",
   "id": "2de9b99a",
   "metadata": {},
   "source": [
    "### Gender Vs Physical_health_interview"
   ]
  },
  {
   "cell_type": "code",
   "execution_count": null,
   "id": "4b6c9dfc",
   "metadata": {},
   "outputs": [],
   "source": [
    "pd.crosstab(df['phys_health_interview'],df['Gender']).plot(kind='bar',figsize=(12,6))\n",
    "plt.show()"
   ]
  },
  {
   "cell_type": "markdown",
   "id": "3264c21a",
   "metadata": {},
   "source": [
    "Majority of males are open to discuss physical health issue with a potential employer in an interview\n",
    "<br>Maximum no. of females are not willing to discuss physical health issue with a potential employer in an interview\n",
    "<br>Minimum no. of employees of all genders are willing to discuss physical health issue with a potential employer in an interview.\n",
    "<br>we may say that the willingness to discuss physical health issue with a potential employer in an interview id dependent on gender"
   ]
  },
  {
   "cell_type": "markdown",
   "id": "39e4fb36",
   "metadata": {},
   "source": [
    "### Gender Vs Mental_vs_Physical"
   ]
  },
  {
   "cell_type": "code",
   "execution_count": null,
   "id": "350fb2ee",
   "metadata": {},
   "outputs": [],
   "source": [
    "pd.crosstab(df['mental_vs_physical'],df['Gender']).plot(kind='bar',figsize=(12,6))\n",
    "plt.show()"
   ]
  },
  {
   "cell_type": "markdown",
   "id": "7256cc69",
   "metadata": {},
   "source": [
    "Maximum no. of males and females have don't know if their employer takes mental health as seriously as physical health.\n",
    "<br> Amoung the employees who have an opinion, a slightly higher no.females feel that their employer takes mental health \n",
    "as seriously as physical health\n",
    "<br>Amoung the employees who have an opinion,50% males feel that their employer takes mental health as seriously as \n",
    "physical health and remaining 50% males feels the opposite."
   ]
  },
  {
   "cell_type": "markdown",
   "id": "7a4f1935",
   "metadata": {},
   "source": [
    "### Gender Vs Obeserved_consequence"
   ]
  },
  {
   "cell_type": "code",
   "execution_count": null,
   "id": "e9fb0d2e",
   "metadata": {},
   "outputs": [],
   "source": [
    "pd.crosstab(df['obs_consequence'],df['Gender']).plot(kind='bar',figsize=(12,6))\n",
    "plt.show()"
   ]
  },
  {
   "cell_type": "markdown",
   "id": "d49706ee",
   "metadata": {},
   "source": [
    "Majority of employees of all genders haven't heard of or observed negative consequences for coworkers with \n",
    "mental health conditions"
   ]
  },
  {
   "cell_type": "markdown",
   "id": "6fb667ab",
   "metadata": {},
   "source": [
    "### family_history vs treatment"
   ]
  },
  {
   "cell_type": "code",
   "execution_count": null,
   "id": "e73579c7",
   "metadata": {
    "scrolled": false
   },
   "outputs": [],
   "source": [
    "pd.crosstab(df[\"family_history\"],df['treatment']).plot(kind='bar',figsize=(12,6))\n",
    "plt.show()"
   ]
  },
  {
   "cell_type": "markdown",
   "id": "de37001f",
   "metadata": {},
   "source": [
    "Employees with  no family history are less likely to get treament when compared to the employees with family history\n",
    "<br> Majority of employees with significant margin don't have family history of health issues"
   ]
  },
  {
   "cell_type": "markdown",
   "id": "6397e390",
   "metadata": {},
   "source": [
    "### family_history vs work_interfere"
   ]
  },
  {
   "cell_type": "code",
   "execution_count": null,
   "id": "6c86f4e6",
   "metadata": {
    "scrolled": false
   },
   "outputs": [],
   "source": [
    "pd.crosstab(df[\"family_history\"],df['work_interfere']).plot(kind='bar',figsize=(12,6))\n",
    "plt.show()"
   ]
  },
  {
   "cell_type": "markdown",
   "id": "b3024803",
   "metadata": {},
   "source": [
    "Employees with family history have their work interfered oftentimes or some times more than employees with out family history\n",
    "<br>Employees without family history are more likely to don't have their work interfered ever "
   ]
  },
  {
   "cell_type": "markdown",
   "id": "b0262093",
   "metadata": {},
   "source": [
    "### family_history vs mental_health_consequence"
   ]
  },
  {
   "cell_type": "code",
   "execution_count": null,
   "id": "996dfa04",
   "metadata": {},
   "outputs": [],
   "source": [
    "pd.crosstab(df[\"family_history\"],df['mental_health_consequence']).plot(kind='bar',figsize=(12,6))\n",
    "plt.show()"
   ]
  },
  {
   "cell_type": "markdown",
   "id": "e661d0be",
   "metadata": {},
   "source": [
    "A higher proportion of employees with no family history that discussing a mental health issue with your employer \n",
    "would not have negative consequences.\n",
    "<br>Unlike employees with family history, a higher proportion think that discussing a mental health issue with your employer \n",
    "might have negative consequences"
   ]
  },
  {
   "cell_type": "markdown",
   "id": "aaefc3fe",
   "metadata": {},
   "source": [
    "### family_history vs phys_health_consequence"
   ]
  },
  {
   "cell_type": "code",
   "execution_count": null,
   "id": "ce98663b",
   "metadata": {},
   "outputs": [],
   "source": [
    "pd.crosstab(df[\"family_history\"],df['phys_health_consequence']).plot(kind='bar',figsize=(12,6))\n",
    "plt.show()"
   ]
  },
  {
   "cell_type": "markdown",
   "id": "4fb9690d",
   "metadata": {},
   "source": [
    "discussing a physical health issue with your employer is not affect by family history "
   ]
  },
  {
   "cell_type": "markdown",
   "id": "d73e5637",
   "metadata": {},
   "source": [
    "### family_history vs coworkers"
   ]
  },
  {
   "cell_type": "code",
   "execution_count": null,
   "id": "cc64a814",
   "metadata": {},
   "outputs": [],
   "source": [
    "pd.crosstab(df['coworkers'],df[\"family_history\"]).plot(kind='bar',figsize=(12,6))\n",
    "plt.show()"
   ]
  },
  {
   "cell_type": "markdown",
   "id": "d67d0096",
   "metadata": {},
   "source": [
    "willing to discuss a mental health issue with coworkers is independent of employees family history"
   ]
  },
  {
   "cell_type": "markdown",
   "id": "4c9bd5a2",
   "metadata": {},
   "source": [
    "### family_history vs supervisor"
   ]
  },
  {
   "cell_type": "code",
   "execution_count": null,
   "id": "101f1a93",
   "metadata": {},
   "outputs": [],
   "source": [
    "pd.crosstab(df[\"family_history\"],df['supervisor']).plot(kind='bar',figsize=(12,6))\n",
    "plt.show()"
   ]
  },
  {
   "cell_type": "markdown",
   "id": "40576e33",
   "metadata": {},
   "source": [
    "willingness to discuss a mental health issue with direct supervisor(s) is independent of family history of employee"
   ]
  },
  {
   "cell_type": "markdown",
   "id": "1ae507fb",
   "metadata": {},
   "source": [
    "### family_history vs mental_health_interview"
   ]
  },
  {
   "cell_type": "code",
   "execution_count": null,
   "id": "acf6137b",
   "metadata": {},
   "outputs": [],
   "source": [
    "pd.crosstab(df['mental_health_interview'],df[\"family_history\"]).plot(kind='bar',figsize=(12,6))\n",
    "plt.show()"
   ]
  },
  {
   "cell_type": "markdown",
   "id": "c8949948",
   "metadata": {},
   "source": [
    "bringing up a mental health issue with a potential employer in an interview is independent of family history"
   ]
  },
  {
   "cell_type": "markdown",
   "id": "70d3c5ad",
   "metadata": {},
   "source": [
    "### family_history vs phys_health_interview"
   ]
  },
  {
   "cell_type": "code",
   "execution_count": null,
   "id": "11357561",
   "metadata": {},
   "outputs": [],
   "source": [
    "pd.crosstab(df['phys_health_interview'],df[\"family_history\"]).plot(kind='bar',figsize=(12,6))\n",
    "plt.show()"
   ]
  },
  {
   "cell_type": "markdown",
   "id": "19df005c",
   "metadata": {},
   "source": [
    "bringing up a physical health issue with a potential employer in an interview is independent of family history"
   ]
  },
  {
   "cell_type": "markdown",
   "id": "dc0317f4",
   "metadata": {},
   "source": [
    "### family_history vs mental_vs_physical"
   ]
  },
  {
   "cell_type": "code",
   "execution_count": null,
   "id": "bd375eff",
   "metadata": {},
   "outputs": [],
   "source": [
    "pd.crosstab(df['mental_vs_physical'],df[\"family_history\"]).plot(kind='bar',figsize=(12,6))\n",
    "plt.show()"
   ]
  },
  {
   "cell_type": "markdown",
   "id": "63d4f219",
   "metadata": {},
   "source": [
    "minimum no. employees with family history feel that your employer takes mental health as seriously as physical health"
   ]
  },
  {
   "cell_type": "markdown",
   "id": "10329e09",
   "metadata": {},
   "source": [
    "### treatment vs work_interfere"
   ]
  },
  {
   "cell_type": "code",
   "execution_count": null,
   "id": "00299048",
   "metadata": {},
   "outputs": [],
   "source": [
    "pd.crosstab(df['work_interfere'],df['treatment']).plot(kind='bar',figsize=(12,6))\n",
    "plt.show()"
   ]
  },
  {
   "cell_type": "markdown",
   "id": "842e1560",
   "metadata": {},
   "source": [
    "Employees who sought treatment for a mental health condition, find some kind of work interference because of mental health condition"
   ]
  },
  {
   "cell_type": "markdown",
   "id": "3d3f1809",
   "metadata": {},
   "source": [
    "### treatment vs remote_work"
   ]
  },
  {
   "cell_type": "code",
   "execution_count": null,
   "id": "ff564f88",
   "metadata": {},
   "outputs": [],
   "source": [
    "pd.crosstab(df['remote_work'],df['treatment']).plot(kind='bar',figsize=(12,6))\n",
    "plt.show()"
   ]
  },
  {
   "cell_type": "markdown",
   "id": "b3b32fe9",
   "metadata": {},
   "source": [
    "Majority of employees are not working remotely.\n",
    "<br>Amoung the employees working remotely, slightly higher no. of them have sought treatment for a mental health condition"
   ]
  },
  {
   "cell_type": "markdown",
   "id": "66fd7252",
   "metadata": {},
   "source": [
    "### treatment vs mental_health_consequence"
   ]
  },
  {
   "cell_type": "code",
   "execution_count": null,
   "id": "f4ff9d27",
   "metadata": {},
   "outputs": [],
   "source": [
    "pd.crosstab(df['mental_health_consequence'],df['treatment']).plot(kind='bar',figsize=(12,6))\n",
    "plt.show()"
   ]
  },
  {
   "cell_type": "markdown",
   "id": "dcad02f4",
   "metadata": {},
   "source": [
    "Employees who sought treatment for mental health condition think that discussing a mental health issue with your employer \n",
    "would have negative consequences than employees who have not sought treatment"
   ]
  },
  {
   "cell_type": "markdown",
   "id": "52852a0d",
   "metadata": {},
   "source": [
    "### treatment vs phys_health_consequence"
   ]
  },
  {
   "cell_type": "code",
   "execution_count": null,
   "id": "3d8d392c",
   "metadata": {},
   "outputs": [],
   "source": [
    "pd.crosstab(df['phys_health_consequence'],df['treatment']).plot(kind='bar',figsize=(12,6))\n",
    "plt.show()"
   ]
  },
  {
   "cell_type": "markdown",
   "id": "99eeb01c",
   "metadata": {},
   "source": [
    "Majority of employees who have not sought or sought treatment think that discussing a physical health issue with your \n",
    "employer wouldnot have negative consequences\n",
    "<br>Amoung the employees who thing think that discussing a physical health issue with your employer would have negative\n",
    "consequences, ratio  of employees who have sought treatment are higher"
   ]
  },
  {
   "cell_type": "markdown",
   "id": "4b4963d8",
   "metadata": {},
   "source": [
    "### treatment vs coworkers"
   ]
  },
  {
   "cell_type": "code",
   "execution_count": null,
   "id": "c466d084",
   "metadata": {},
   "outputs": [],
   "source": [
    "pd.crosstab(df['coworkers'],df['treatment']).plot(kind='bar',figsize=(12,6))\n",
    "plt.show()"
   ]
  },
  {
   "cell_type": "markdown",
   "id": "f5487d9c",
   "metadata": {},
   "source": [
    "Employees who have sought their treatment are willing to discuss a mental health issue with your coworkers as compared to who have not sought their treatment.\n",
    "<br> both employees who have sought or not sought treatment are willing to discuss a mental health issue with your coworkers"
   ]
  },
  {
   "cell_type": "markdown",
   "id": "2ce6a391",
   "metadata": {},
   "source": [
    "### treatment vs leave"
   ]
  },
  {
   "cell_type": "code",
   "execution_count": null,
   "id": "b9a2f3b4",
   "metadata": {},
   "outputs": [],
   "source": [
    "pd.crosstab(df['treatment'],df['leave']).plot(kind='bar',figsize=(12,6))\n",
    "plt.show()"
   ]
  },
  {
   "cell_type": "markdown",
   "id": "fe7bd137",
   "metadata": {},
   "source": [
    "Majority of employees who have not sought treatment dont know about leaves provided for mental health condition\n",
    "<br> More no. Employees who have sought their treatment found somewhat or very difficult to apply medical leave for mental health condition"
   ]
  },
  {
   "cell_type": "markdown",
   "id": "15928fee",
   "metadata": {},
   "source": [
    "### treatment vs mental_health_interview"
   ]
  },
  {
   "cell_type": "code",
   "execution_count": null,
   "id": "83a31326",
   "metadata": {},
   "outputs": [],
   "source": [
    "pd.crosstab(df['treatment'],df['mental_health_interview']).plot(kind='bar',figsize=(12,6))\n",
    "plt.show()"
   ]
  },
  {
   "cell_type": "markdown",
   "id": "ed365eea",
   "metadata": {},
   "source": [
    "Majority of employees who have sought their treatment are not willing to bring up a mental health issue with a potential employer in an interview\n",
    "<br>Employees who have  not sought their treatment might not bring up a mental health issue with a potential employer in an interview"
   ]
  },
  {
   "cell_type": "markdown",
   "id": "35bcdf33",
   "metadata": {},
   "source": [
    "### treatment vs supervisor"
   ]
  },
  {
   "cell_type": "code",
   "execution_count": null,
   "id": "666b581d",
   "metadata": {},
   "outputs": [],
   "source": [
    "pd.crosstab(df['treatment'],df['supervisor']).plot(kind='bar',figsize=(12,6))\n",
    "plt.show()"
   ]
  },
  {
   "cell_type": "markdown",
   "id": "eaabd377",
   "metadata": {},
   "source": [
    "Majority of employyes who have not sought their treatment are willing to discuss a mental health issue with your direct supervisor\n",
    "<br>Majority of employyes who have sought their treatment are not willing to discuss a mental health issue with your direct supervisor"
   ]
  },
  {
   "cell_type": "markdown",
   "id": "5ce859ec",
   "metadata": {},
   "source": [
    "### treatment vs phys_health_interview"
   ]
  },
  {
   "cell_type": "code",
   "execution_count": null,
   "id": "2501ea02",
   "metadata": {},
   "outputs": [],
   "source": [
    "pd.crosstab(df['treatment'],df['phys_health_interview']).plot(kind='bar',figsize=(12,6))\n",
    "plt.show()"
   ]
  },
  {
   "cell_type": "markdown",
   "id": "bed4ff2e",
   "metadata": {},
   "source": [
    "Employees who sought treatment for mental health conditions are not willing to discuss physical health issue with a\n",
    "potential employer in an interview"
   ]
  },
  {
   "cell_type": "markdown",
   "id": "a6162754",
   "metadata": {},
   "source": [
    "### treatment vs mental_vs_physical"
   ]
  },
  {
   "cell_type": "code",
   "execution_count": null,
   "id": "e54580c1",
   "metadata": {},
   "outputs": [],
   "source": [
    "pd.crosstab(df['mental_vs_physical'],df['treatment']).plot(kind='bar',figsize=(12,6))\n",
    "plt.show()"
   ]
  },
  {
   "cell_type": "markdown",
   "id": "351af790",
   "metadata": {},
   "source": [
    "Higher proportion of employees who have sought treatment think that their employer donot takes mental health as seriously as physical health"
   ]
  },
  {
   "cell_type": "markdown",
   "id": "5305daf9",
   "metadata": {},
   "source": [
    "### remote_work vs benefits"
   ]
  },
  {
   "cell_type": "code",
   "execution_count": null,
   "id": "f0f3b526",
   "metadata": {},
   "outputs": [],
   "source": [
    "pd.crosstab(df['benefits'],df['remote_work']).plot(kind='bar',figsize=(12,6))\n",
    "plt.show()"
   ]
  },
  {
   "cell_type": "markdown",
   "id": "2c8095a6",
   "metadata": {},
   "source": [
    "from above we say that the people who does not do remote work were high in number compare to people who does the remote work.\n",
    "people who does not do remote work were more aware about the benifits.\n",
    "<br>there is around 30% people who does the remote work knows about benifits.\n",
    "<br>so we can say that people who does not do remote work were more aware about the benifits than others."
   ]
  },
  {
   "cell_type": "markdown",
   "id": "fb6c6eb0",
   "metadata": {},
   "source": [
    "### remote_work vs mental_vs_physical"
   ]
  },
  {
   "cell_type": "code",
   "execution_count": null,
   "id": "b5cf1a7a",
   "metadata": {},
   "outputs": [],
   "source": [
    "pd.crosstab(df['remote_work'],df['mental_vs_physical']).plot(kind='bar',figsize=(12,6))\n",
    "plt.show()"
   ]
  },
  {
   "cell_type": "markdown",
   "id": "11bed262",
   "metadata": {},
   "source": [
    "For employees who work remotely, think that their employer takes mental health as seriously as physical health.\n",
    "which is not the case for non-remote type of work."
   ]
  },
  {
   "cell_type": "markdown",
   "id": "fee20066",
   "metadata": {},
   "source": [
    "### remote_work vs mental_health_consequence"
   ]
  },
  {
   "cell_type": "code",
   "execution_count": null,
   "id": "af168900",
   "metadata": {},
   "outputs": [],
   "source": [
    "pd.crosstab(df['remote_work'],df['mental_health_consequence']).plot(kind='bar',figsize=(12,6))\n",
    "plt.show()"
   ]
  },
  {
   "cell_type": "markdown",
   "id": "b898a60e",
   "metadata": {},
   "source": [
    "Employees who work remotely, think that discussing a mental health issue with your employer would not have \n",
    "negative consequences unlike employees who work non-remote. "
   ]
  },
  {
   "cell_type": "markdown",
   "id": "a40d3a3a",
   "metadata": {},
   "source": [
    "### remote_work vs phys_health_consequence"
   ]
  },
  {
   "cell_type": "code",
   "execution_count": null,
   "id": "17b40134",
   "metadata": {},
   "outputs": [],
   "source": [
    "pd.crosstab(df['remote_work'],df['phys_health_consequence']).plot(kind='bar',figsize=(12,6))\n",
    "plt.show()"
   ]
  },
  {
   "cell_type": "markdown",
   "id": "ba084b81",
   "metadata": {},
   "source": [
    "Employees opinion on discussing a physical health issue with your employer having negative consequences is not affected by remote work."
   ]
  },
  {
   "cell_type": "markdown",
   "id": "2830b039",
   "metadata": {},
   "source": [
    "### remote_work vs mental_health_interview\n"
   ]
  },
  {
   "cell_type": "code",
   "execution_count": null,
   "id": "8e2c8972",
   "metadata": {},
   "outputs": [],
   "source": [
    "pd.crosstab(df['remote_work'],df['mental_health_interview']).plot(kind='bar',figsize=(12,6))\n",
    "plt.show()"
   ]
  },
  {
   "cell_type": "markdown",
   "id": "eb31d4a3",
   "metadata": {},
   "source": [
    "Openess to bring up a mental health issue with a potential employer in an interview is independent of work type(remote or not )."
   ]
  },
  {
   "cell_type": "markdown",
   "id": "363f7659",
   "metadata": {},
   "source": [
    "### remote_work vs phys_health_interview"
   ]
  },
  {
   "cell_type": "code",
   "execution_count": null,
   "id": "255b8a5a",
   "metadata": {},
   "outputs": [],
   "source": [
    "pd.crosstab(df['remote_work'],df['phys_health_interview']).plot(kind='bar',figsize=(12,6))\n",
    "plt.show()"
   ]
  },
  {
   "cell_type": "markdown",
   "id": "254e03a9",
   "metadata": {},
   "source": [
    "Openess to bring up a physical health issue with a potential employer in an interview is independent of work type(remote or not )."
   ]
  },
  {
   "cell_type": "code",
   "execution_count": null,
   "id": "ead01d9d",
   "metadata": {},
   "outputs": [],
   "source": [
    "df.columns"
   ]
  },
  {
   "cell_type": "markdown",
   "id": "f494f461",
   "metadata": {},
   "source": [
    "### Self employed vs remote work"
   ]
  },
  {
   "cell_type": "code",
   "execution_count": null,
   "id": "d4cc78f5",
   "metadata": {},
   "outputs": [],
   "source": [
    "pd.crosstab(df['self_employed'],df['remote_work']).plot(kind='bar',figsize=(12,6))\n",
    "plt.show()"
   ]
  },
  {
   "cell_type": "markdown",
   "id": "ad81458e",
   "metadata": {},
   "source": [
    "Higher ratio of people who are self employeed are working remotely\n",
    "<br>from above we can say that people who are not self employed are not working remotely."
   ]
  },
  {
   "cell_type": "markdown",
   "id": "9739b20b",
   "metadata": {},
   "source": [
    "### Self employeed vs mental health consequences"
   ]
  },
  {
   "cell_type": "code",
   "execution_count": null,
   "id": "cacf93bc",
   "metadata": {},
   "outputs": [],
   "source": [
    "pd.crosstab(df['self_employed'],df['mental_health_consequence']).plot(kind='bar',figsize=(12,6))\n",
    "plt.show()"
   ]
  },
  {
   "cell_type": "markdown",
   "id": "9cfd6246",
   "metadata": {},
   "source": [
    "Higher proportion of people who are self employed,think that discussing a mental health issue with your employer wouldnot\n",
    "have negative consequences"
   ]
  },
  {
   "cell_type": "markdown",
   "id": "05f8472e",
   "metadata": {},
   "source": [
    "### Self employeed vs physical health consequences"
   ]
  },
  {
   "cell_type": "code",
   "execution_count": null,
   "id": "f851213f",
   "metadata": {},
   "outputs": [],
   "source": [
    "pd.crosstab(df['self_employed'],df['phys_health_consequence']).plot(kind='bar',figsize=(12,6))\n",
    "plt.show()"
   ]
  },
  {
   "cell_type": "markdown",
   "id": "d67e3acb",
   "metadata": {},
   "source": [
    "Discussing a physical health issue with your employer is independent of employement type(Self or not)"
   ]
  },
  {
   "cell_type": "markdown",
   "id": "130af958",
   "metadata": {},
   "source": [
    "### Self employeed vs physical health interview"
   ]
  },
  {
   "cell_type": "code",
   "execution_count": null,
   "id": "b02780e4",
   "metadata": {},
   "outputs": [],
   "source": [
    "pd.crosstab(df['self_employed'],df['phys_health_interview']).plot(kind='bar',figsize=(12,6))\n",
    "plt.show()"
   ]
  },
  {
   "cell_type": "markdown",
   "id": "dab94f10",
   "metadata": {},
   "source": [
    "openess bring up a mental health issue with a potential employer in an interview is independent of employement type(Self or not)"
   ]
  },
  {
   "cell_type": "markdown",
   "id": "b1d66afb",
   "metadata": {},
   "source": [
    "### Self employeed vs mental health interview"
   ]
  },
  {
   "cell_type": "code",
   "execution_count": null,
   "id": "7f827279",
   "metadata": {
    "scrolled": false
   },
   "outputs": [],
   "source": [
    "pd.crosstab(df['self_employed'],df['mental_health_interview']).plot(kind='bar',figsize=(12,6))\n",
    "plt.show()"
   ]
  },
  {
   "cell_type": "markdown",
   "id": "c0dc0cae",
   "metadata": {},
   "source": [
    "Maximum no. of people are not willing to u bring up a physical health issue with a potential employer in an interview \n",
    "irrespective of employement type(self or not)"
   ]
  },
  {
   "cell_type": "markdown",
   "id": "6b3a4242",
   "metadata": {},
   "source": [
    "### Self employeed vs Mental vs Physical"
   ]
  },
  {
   "cell_type": "code",
   "execution_count": null,
   "id": "866df70b",
   "metadata": {},
   "outputs": [],
   "source": [
    "pd.crosstab(df['self_employed'],df['mental_vs_physical']).plot(kind='bar',figsize=(12,6))\n",
    "plt.show()"
   ]
  },
  {
   "cell_type": "markdown",
   "id": "876236e1",
   "metadata": {},
   "source": [
    "A higher proportion of people who are self employeed feel that your employer takes mental health as seriously as physical health.\n",
    "Which is not the case for people who are not self employeed."
   ]
  },
  {
   "cell_type": "markdown",
   "id": "f4a26ab7",
   "metadata": {},
   "source": [
    "### co workers vs mental health consequences"
   ]
  },
  {
   "cell_type": "code",
   "execution_count": null,
   "id": "5f77c4da",
   "metadata": {},
   "outputs": [],
   "source": [
    "pd.crosstab(df['coworkers'],df['mental_health_consequence']).plot(kind='bar',figsize=(12,6))\n",
    "plt.show()"
   ]
  },
  {
   "cell_type": "markdown",
   "id": "2271acbe",
   "metadata": {},
   "source": [
    "Maximum no. of employees willing to discuss a mental health issue with coworkers are not willing bring up a \n",
    "mental health issue with a potential employer in an interview"
   ]
  },
  {
   "cell_type": "markdown",
   "id": "b8b188f7",
   "metadata": {},
   "source": [
    "### Coworkers vs Physical health consequences"
   ]
  },
  {
   "cell_type": "code",
   "execution_count": null,
   "id": "24ef92c3",
   "metadata": {
    "scrolled": false
   },
   "outputs": [],
   "source": [
    "pd.crosstab(df['coworkers'],df['phys_health_consequence']).plot(kind='bar',figsize=(12,6))\n",
    "plt.show()"
   ]
  },
  {
   "cell_type": "markdown",
   "id": "1b36aad6",
   "metadata": {},
   "source": [
    "Irrespective of willingness to discuss a mental health issue with coworkers, employees opinion on discussing a \n",
    "physical health issue with employer is the same."
   ]
  },
  {
   "cell_type": "markdown",
   "id": "38d9eac3",
   "metadata": {},
   "source": [
    "### Coworkers vs Phy_health_interview"
   ]
  },
  {
   "cell_type": "code",
   "execution_count": null,
   "id": "30e33e33",
   "metadata": {},
   "outputs": [],
   "source": [
    "pd.crosstab(df['phys_health_interview'],df['coworkers']).plot(kind='bar',figsize=(12,6))\n",
    "plt.show()"
   ]
  },
  {
   "cell_type": "markdown",
   "id": "bf23b6c2",
   "metadata": {},
   "source": [
    "The ratio of employees willinging to discuss a mental health issue with coworkers and employees willinging to bring up a \n",
    "physical health issue with a potential employer in an interview is slightly higher."
   ]
  },
  {
   "cell_type": "markdown",
   "id": "8d76a3d6",
   "metadata": {},
   "source": [
    "### Coworker vs mental health interview"
   ]
  },
  {
   "cell_type": "code",
   "execution_count": null,
   "id": "dfc38c08",
   "metadata": {},
   "outputs": [],
   "source": [
    "pd.crosstab(df['mental_health_interview'],df['coworkers']).plot(kind='bar',figsize=(12,6))\n",
    "plt.show()"
   ]
  },
  {
   "cell_type": "markdown",
   "id": "825b98ef",
   "metadata": {},
   "source": [
    "Higher ratio of employees who willinging to discuss a mental health issue with coworkers are also willinging to bring up  \n",
    "physical health issue with a potential employer in an interview."
   ]
  },
  {
   "cell_type": "markdown",
   "id": "ecd31a31",
   "metadata": {},
   "source": [
    "## Multi Variant Analysis"
   ]
  },
  {
   "cell_type": "code",
   "execution_count": null,
   "id": "fc1d34cb",
   "metadata": {},
   "outputs": [],
   "source": [
    "plt.figure(figsize=(12,6))\n",
    "sns.boxplot(x=df['Gender'],y=df['Age'],hue=df['family_history'])\n",
    "plt.title('Correation between Age, Gender and Family history',fontsize=15)\n",
    "plt.show()"
   ]
  },
  {
   "cell_type": "markdown",
   "id": "aa6fbdca",
   "metadata": {},
   "source": [
    "The average age of females who have family history is less than the average age of females who have family history.\n",
    "The average age of males and other gender who have family history is greater than the average age of females who have family history."
   ]
  },
  {
   "cell_type": "markdown",
   "id": "aa70d0c1",
   "metadata": {},
   "source": [
    "### Does gender and family history have effect on treatment ?"
   ]
  },
  {
   "cell_type": "code",
   "execution_count": null,
   "id": "695321d9",
   "metadata": {
    "scrolled": true
   },
   "outputs": [],
   "source": [
    "pd.pivot_table(df,index =['treatment'],columns=['Gender','family_history'],values=['Age'], aggfunc='count',margins=True)"
   ]
  },
  {
   "cell_type": "markdown",
   "id": "887234de",
   "metadata": {},
   "source": [
    "Higher number of females with family history are undergoing treatement for mrntal health condition.Highest number of males with no family history are not undergoing treatment.\n",
    "Looks like gender and family history may have effect on treatment."
   ]
  },
  {
   "cell_type": "code",
   "execution_count": null,
   "id": "7b77c641",
   "metadata": {},
   "outputs": [],
   "source": [
    "pd.pivot_table(df,index =['treatment'],columns=['Gender','work_interfere'],values=['Age'], aggfunc='count',margins=True)"
   ]
  },
  {
   "cell_type": "markdown",
   "id": "946d5b61",
   "metadata": {},
   "source": [
    "A very small count of employees of all genders who are undergoing treatment, feel that their mental health condition never interferes with work.\n",
    "Most of the employees of all genders who are undergoing treatment, have experienced some sort of work interference. "
   ]
  },
  {
   "cell_type": "markdown",
   "id": "7a0f16d2",
   "metadata": {},
   "source": [
    "### OUTLIERS TREATMENT "
   ]
  },
  {
   "cell_type": "code",
   "execution_count": null,
   "id": "b7c3a865",
   "metadata": {},
   "outputs": [],
   "source": [
    "sns.kdeplot(x=df['Age'])\n",
    "plt.title('Kde plot of age before transformation')\n",
    "plt.show()"
   ]
  },
  {
   "cell_type": "markdown",
   "id": "e6bcc0e6",
   "metadata": {},
   "source": [
    "There are outliers present in the variable age. Reducing the skewness by using boxcox transformation."
   ]
  },
  {
   "cell_type": "code",
   "execution_count": null,
   "id": "46c75e0b",
   "metadata": {},
   "outputs": [],
   "source": [
    "# Q1 = df['Age'].quantile(0.25)\n",
    "# Q3 = df['Age'].quantile(0.75)\n",
    "\n",
    "# IQR = Q3-Q1\n",
    "# UL = Q3+1.5*IQR\n",
    "# LL = Q1-1.5*IQR\n",
    "\n",
    "# age_out = df[(df['Age']<LL)|(df['Age']>UL)].index\n",
    "# df.drop(index=age_out,axis=0,inplace=True)"
   ]
  },
  {
   "cell_type": "code",
   "execution_count": null,
   "id": "28144386",
   "metadata": {},
   "outputs": [],
   "source": [
    "box_age = stats.boxcox(df['Age'])\n",
    "sns.kdeplot(box_age[0])\n",
    "plt.title('Kde plot of age after using boxcox transformation')\n",
    "plt.show()"
   ]
  },
  {
   "cell_type": "code",
   "execution_count": null,
   "id": "4e56c592",
   "metadata": {},
   "outputs": [],
   "source": [
    "print('The skewness of age after transformation',stats.skew(box_age[0]))"
   ]
  },
  {
   "cell_type": "markdown",
   "id": "527709e1",
   "metadata": {},
   "source": [
    "The age curve looks almost normal after boxcox transformation and the skewness of the age has been reduced to 0.0005 which is almost normal distribution "
   ]
  },
  {
   "cell_type": "code",
   "execution_count": null,
   "id": "7f26b95d",
   "metadata": {},
   "outputs": [],
   "source": [
    "df['Age'] = box_age[0]"
   ]
  },
  {
   "cell_type": "markdown",
   "id": "ff848fd0",
   "metadata": {},
   "source": [
    "# Missing Value"
   ]
  },
  {
   "cell_type": "code",
   "execution_count": null,
   "id": "01d810cc",
   "metadata": {},
   "outputs": [],
   "source": [
    "null_df = pd.DataFrame()\n",
    "null_df['Count'] = df.isnull().sum()\n",
    "null_df['Percent'] = null_df['Count']/len(null_df)\n",
    "null_df[null_df['Percent']!=0].sort_values('Percent',ascending=False)"
   ]
  },
  {
   "cell_type": "code",
   "execution_count": null,
   "id": "9e00fb31",
   "metadata": {
    "scrolled": false
   },
   "outputs": [],
   "source": [
    "plt.figure(figsize=(14,7))\n",
    "sns.heatmap(df.isnull(),cmap='Purples')\n",
    "plt.show()"
   ]
  },
  {
   "cell_type": "markdown",
   "id": "4669b57a",
   "metadata": {},
   "source": [
    "### Imputing missing values with mode "
   ]
  },
  {
   "cell_type": "code",
   "execution_count": null,
   "id": "43f0adec",
   "metadata": {},
   "outputs": [],
   "source": [
    "df.self_employed.value_counts()"
   ]
  },
  {
   "cell_type": "code",
   "execution_count": null,
   "id": "9ec61fba",
   "metadata": {},
   "outputs": [],
   "source": [
    "wi_freq_value = df.work_interfere.mode() \n",
    "df['work_interfere'].fillna(wi_freq_value[0],inplace=True)"
   ]
  },
  {
   "cell_type": "code",
   "execution_count": null,
   "id": "7d50a50d",
   "metadata": {},
   "outputs": [],
   "source": [
    "df['self_employed'].fillna(df['self_employed'].mode()[0],inplace=True)"
   ]
  },
  {
   "cell_type": "code",
   "execution_count": null,
   "id": "045b1d5a",
   "metadata": {},
   "outputs": [],
   "source": [
    "df.isnull().sum().sum()"
   ]
  },
  {
   "cell_type": "code",
   "execution_count": null,
   "id": "fd2b163d",
   "metadata": {},
   "outputs": [],
   "source": [
    "# No missing values"
   ]
  },
  {
   "cell_type": "markdown",
   "id": "0cc192b1",
   "metadata": {},
   "source": [
    "### Statistical test to see if Mental health issues is related to country"
   ]
  },
  {
   "cell_type": "code",
   "execution_count": null,
   "id": "6fbe6cdf",
   "metadata": {},
   "outputs": [],
   "source": [
    "# Considering only US, UK and Canada countries to analysis the effect of country on mental health"
   ]
  },
  {
   "cell_type": "code",
   "execution_count": null,
   "id": "6d38b874",
   "metadata": {},
   "outputs": [],
   "source": [
    "df_country = df[(df['Country']=='United States') |( df['Country']=='United Kingdom')|( df['Country']=='Canada')]"
   ]
  },
  {
   "cell_type": "code",
   "execution_count": null,
   "id": "53e26bcb",
   "metadata": {},
   "outputs": [],
   "source": [
    "df_country.shape"
   ]
  },
  {
   "cell_type": "code",
   "execution_count": null,
   "id": "f65f45a8",
   "metadata": {},
   "outputs": [],
   "source": [
    "from scipy.stats import chi2_contingency"
   ]
  },
  {
   "cell_type": "markdown",
   "id": "218b80f0",
   "metadata": {},
   "source": [
    "Hypothesis<br>\n",
    "H0: Mental health treatment is indepedent on country<br>\n",
    "H1: Mental health traetment is dependent on country"
   ]
  },
  {
   "cell_type": "code",
   "execution_count": null,
   "id": "64a61334",
   "metadata": {
    "scrolled": true
   },
   "outputs": [],
   "source": [
    "country_MH_table = pd.crosstab(df_country['Country'],df_country['treatment'])\n",
    "country_MH_table"
   ]
  },
  {
   "cell_type": "code",
   "execution_count": null,
   "id": "65bab9fb",
   "metadata": {},
   "outputs": [],
   "source": [
    "obs_val = country_MH_table.values\n",
    "alpha = 0.01\n",
    "test_stat,p,dof,exp_val = chi2_contingency(obs_val)\n",
    "print('p-value :',p)\n",
    "print('Test Statistics :',test_stat)"
   ]
  },
  {
   "cell_type": "markdown",
   "id": "e0c991f4",
   "metadata": {},
   "source": [
    "Here p-value is greater than 0.01. Hence we fail to reject null hypothesis and we can counclude that<br>\n",
    "Mental health issue treatment is independed on country.<br>\n",
    "(Note: Considering only US, UK and Canada)"
   ]
  },
  {
   "cell_type": "markdown",
   "id": "b2dfeb83",
   "metadata": {},
   "source": [
    "But here we are droping country column as the no. of entries in the each country is not sufficient and it effects the model(most of the countries have only 1 entry).  This affects the model significantly. "
   ]
  },
  {
   "cell_type": "code",
   "execution_count": null,
   "id": "0cc6d280",
   "metadata": {},
   "outputs": [],
   "source": [
    "df.drop('Country',axis=1,inplace=True)"
   ]
  },
  {
   "cell_type": "markdown",
   "id": "5b28ae00",
   "metadata": {},
   "source": [
    "### Statistical test to see if Mental health issues is related to gender"
   ]
  },
  {
   "cell_type": "markdown",
   "id": "7f7c10fa",
   "metadata": {},
   "source": [
    "Hypothesis<br>\n",
    "H0: Mental health issue is indepedent on gender<br>\n",
    "H1: Mental health issue is dependent on gender"
   ]
  },
  {
   "cell_type": "code",
   "execution_count": null,
   "id": "749ddda3",
   "metadata": {},
   "outputs": [],
   "source": [
    "gender_MH_table = pd.crosstab(df['Gender'],df['treatment'])\n",
    "gender_MH_table"
   ]
  },
  {
   "cell_type": "code",
   "execution_count": null,
   "id": "2a99315d",
   "metadata": {},
   "outputs": [],
   "source": [
    "obs_val = gender_MH_table.values\n",
    "alpha = 0.05\n",
    "test_stat,p,dof,exp_val = chi2_contingency(obs_val)\n",
    "print('p-value :',p)\n",
    "print('Test Statistics :',test_stat)"
   ]
  },
  {
   "cell_type": "markdown",
   "id": "6ce531d0",
   "metadata": {},
   "source": [
    "Here p-value is less than 0.05. Hence we reject null hypothesis and we can counclude that Mental health issue treatment is depended on gender."
   ]
  },
  {
   "cell_type": "markdown",
   "id": "206c3130",
   "metadata": {},
   "source": [
    "### Statistical test to see if Mental health treatment has impact on work interference."
   ]
  },
  {
   "cell_type": "markdown",
   "id": "1a76db78",
   "metadata": {},
   "source": [
    "Hypothesis<br>\n",
    "H0: Mental health treatment is indepedent on work interference<br>\n",
    "H1: Mental health treatment is dependent on work interference"
   ]
  },
  {
   "cell_type": "code",
   "execution_count": null,
   "id": "ce37bfba",
   "metadata": {},
   "outputs": [],
   "source": [
    "work_int_table = pd.crosstab(df['work_interfere'],df['treatment'])\n",
    "work_int_table"
   ]
  },
  {
   "cell_type": "code",
   "execution_count": null,
   "id": "bd87072a",
   "metadata": {},
   "outputs": [],
   "source": [
    "obs_val = work_int_table.values\n",
    "alpha = 0.05\n",
    "test_stat,p,dof,exp_val = chi2_contingency(obs_val)\n",
    "print('p-value :',p)\n",
    "print('Test Statistics :',test_stat)"
   ]
  },
  {
   "cell_type": "markdown",
   "id": "ba64f5ae",
   "metadata": {},
   "source": [
    "Here p-value is less than 0.05. Hence we reject null hypothesis and we can counclude that Mental health treatment has impact on work interference."
   ]
  },
  {
   "cell_type": "markdown",
   "id": "f71f4956",
   "metadata": {},
   "source": [
    "### Statistical test to see if Age has impact on Mental health"
   ]
  },
  {
   "cell_type": "code",
   "execution_count": null,
   "id": "589a885e",
   "metadata": {},
   "outputs": [],
   "source": [
    "# To test the normality of Age variable\n",
    "stat, p_value = stats.shapiro(df['Age'])\n",
    "\n",
    "print('p-value:', p_value)"
   ]
  },
  {
   "cell_type": "markdown",
   "id": "ed4d7959",
   "metadata": {},
   "source": [
    "Here p-value<0.05 (5% Significance level). Null Hypothesis is rejected i.e Alternate Hypothesis is selected.<br>\n",
    "The data is not normally distributed."
   ]
  },
  {
   "cell_type": "markdown",
   "id": "fd12cc55",
   "metadata": {},
   "source": [
    "Since data points does not statisfy normality. Mannwhtineyu test is used whic is the equivalent test for unpaired t test."
   ]
  },
  {
   "cell_type": "code",
   "execution_count": null,
   "id": "38dfb2f1",
   "metadata": {},
   "outputs": [],
   "source": [
    "MH_yes = df[df['treatment']=='Yes']\n",
    "MH_no = df[df['treatment']=='No']"
   ]
  },
  {
   "cell_type": "code",
   "execution_count": null,
   "id": "58ac69d1",
   "metadata": {},
   "outputs": [],
   "source": [
    "# Graphical understanding:\n",
    "\n",
    "sns.kdeplot(MH_yes['Age'],label='Under Treatment')\n",
    "sns.kdeplot(MH_no['Age'],label='Not Under Treatment')\n",
    "plt.legend()\n",
    "plt.show()"
   ]
  },
  {
   "cell_type": "code",
   "execution_count": null,
   "id": "a259a19c",
   "metadata": {},
   "outputs": [],
   "source": [
    "# Ho: μ_yes =  μ_no (No difference in age with respect to Mental health issue treatment)\n",
    "# H1: μ_yes ≠  μ_no (Significant difference in potential with respect to Mental health issue treatment)\n",
    "\n",
    "\n",
    "test = stats.mannwhitneyu(MH_yes['Age'],MH_no['Age'])\n",
    "print('p_value:',test[1])"
   ]
  },
  {
   "cell_type": "markdown",
   "id": "e27f28e8",
   "metadata": {},
   "source": [
    "Since p_value < 0.05(5% Significance level). Null Hypothesis is rejected i.e Alternate Hypothesis is selected. \n",
    "\n",
    "We can inference that there is Significant difference in age with respect to Mental health issue treatment.\n",
    "\n"
   ]
  },
  {
   "cell_type": "markdown",
   "id": "ef84a0f0",
   "metadata": {},
   "source": [
    "# Impact of mental health on coworkers at workplace"
   ]
  },
  {
   "cell_type": "raw",
   "id": "42dfe292",
   "metadata": {},
   "source": [
    "H0:mental health issue has no impact on coworkers at workplace \n",
    "H1: mental hralth issue has impact on co workers at work"
   ]
  },
  {
   "cell_type": "code",
   "execution_count": null,
   "id": "171654cd",
   "metadata": {},
   "outputs": [],
   "source": [
    "data=pd.crosstab(df['treatment'],df['obs_consequence'])"
   ]
  },
  {
   "cell_type": "code",
   "execution_count": null,
   "id": "262719dc",
   "metadata": {},
   "outputs": [],
   "source": [
    "\n",
    "chi=chi2_contingency(data.values)\n",
    "chi_stats=chi[0]\n",
    "p_value=chi[1]"
   ]
  },
  {
   "cell_type": "code",
   "execution_count": null,
   "id": "90fc5e51",
   "metadata": {},
   "outputs": [],
   "source": [
    "print('test_stats:',chi_stats)\n",
    "print('pvalue:',p_value)\n",
    "#here p_value <0.05 , null hypothesis is rejected i.e mental health issue has impact on co workers at work"
   ]
  },
  {
   "cell_type": "markdown",
   "id": "899bbca1",
   "metadata": {},
   "source": [
    "here p_value <0.05 , null hypothesis is rejected i.e mental health issue has impact on co workers at work"
   ]
  },
  {
   "cell_type": "markdown",
   "id": "2b5ee0dd",
   "metadata": {},
   "source": [
    "# Is mental health has relation with the family History "
   ]
  },
  {
   "cell_type": "markdown",
   "id": "d6f9f47f",
   "metadata": {},
   "source": [
    "H0: Employees having mental health treatment has no family history of mental illness \n",
    "\n",
    "H1: Employees having mental health treatment hasfamily history of mental illness "
   ]
  },
  {
   "cell_type": "code",
   "execution_count": null,
   "id": "9423f66d",
   "metadata": {},
   "outputs": [],
   "source": [
    "fam_history_table=pd.crosstab(df['treatment'],df['family_history'])\n",
    "fam_history_table"
   ]
  },
  {
   "cell_type": "code",
   "execution_count": null,
   "id": "ae106dbb",
   "metadata": {},
   "outputs": [],
   "source": [
    "test_stats,p_value,dof,expected_values=chi2_contingency(fam_history_table.values)\n",
    "print('test_stats:',test_stats)\n",
    "print('pvalue:',p_value)"
   ]
  },
  {
   "cell_type": "markdown",
   "id": "1c2b540a",
   "metadata": {},
   "source": [
    "since p_value <0.05, Null hypothesis is rejected .\n",
    "\n",
    "Thus, Employees having mental health treatment has family history of mental illness"
   ]
  },
  {
   "cell_type": "markdown",
   "id": "3232c8d0",
   "metadata": {},
   "source": [
    "## MODELLING"
   ]
  },
  {
   "cell_type": "code",
   "execution_count": null,
   "id": "e6848653",
   "metadata": {
    "scrolled": true
   },
   "outputs": [],
   "source": [
    "df.head()"
   ]
  },
  {
   "cell_type": "code",
   "execution_count": null,
   "id": "5657ba4e",
   "metadata": {
    "scrolled": true
   },
   "outputs": [],
   "source": [
    "print(df['work_interfere'].unique())\n",
    "print(df['leave'].unique())\n",
    "print(df['no_employees'].unique())"
   ]
  },
  {
   "cell_type": "code",
   "execution_count": null,
   "id": "be8d9660",
   "metadata": {},
   "outputs": [],
   "source": []
  },
  {
   "cell_type": "code",
   "execution_count": null,
   "id": "18599f70",
   "metadata": {},
   "outputs": [],
   "source": [
    "df.head()"
   ]
  },
  {
   "cell_type": "code",
   "execution_count": null,
   "id": "8cb57ca6",
   "metadata": {},
   "outputs": [],
   "source": [
    "data_cat = df.drop(['work_interfere','leave','treatment','no_employees'],axis=1)\n",
    "data_ord =  df[['work_interfere','leave','no_employees']]"
   ]
  },
  {
   "cell_type": "code",
   "execution_count": null,
   "id": "4a786028",
   "metadata": {},
   "outputs": [],
   "source": [
    "encoder = OrdinalEncoder(categories=[['Never','Rarely','Sometimes','Often']])                  \n",
    "df['work_interfere'] = encoder.fit_transform(df['work_interfere'].values.reshape(-1,1))\n",
    "\n",
    "encoder = OrdinalEncoder(categories=[[\"Don't know\",'Very difficult','Somewhat difficult','Somewhat easy','Very easy']])\n",
    "df['leave'] = encoder.fit_transform(df['leave'].values.reshape(-1,1))\n",
    "\n",
    "encoder = OrdinalEncoder(categories=[['1-5','6-25','26-100', '100-500', '500-1000','More than 1000']])\n",
    "df['no_employees'] = encoder.fit_transform(df['no_employees'].values.reshape(-1,1))\n",
    "\n",
    "data_cat_encoding = pd.get_dummies(data_cat,drop_first=True)"
   ]
  },
  {
   "cell_type": "code",
   "execution_count": null,
   "id": "a305ec80",
   "metadata": {},
   "outputs": [],
   "source": [
    "y = df['treatment']\n",
    "\n",
    "X_final = pd.DataFrame()\n",
    "X_final = pd.concat([data_cat_encoding,df['work_interfere'],df['leave'],df['no_employees']],axis=1)\n",
    "X_final"
   ]
  },
  {
   "cell_type": "code",
   "execution_count": null,
   "id": "5bdd702b",
   "metadata": {},
   "outputs": [],
   "source": [
    "X_train, X_test, y_train, y_test = train_test_split(X_final, y, test_size=0.3, random_state=42)"
   ]
  },
  {
   "cell_type": "code",
   "execution_count": null,
   "id": "0dab579b",
   "metadata": {},
   "outputs": [],
   "source": [
    "import smlr\n",
    "model = smlr.SMLR(max_iter=1000, tol=1e-8, verbose=5)\n",
    "model.fit(X_train, y_train)\n",
    "predictions = model.predict(X_test)"
   ]
  },
  {
   "cell_type": "code",
   "execution_count": null,
   "id": "c32d3cae",
   "metadata": {},
   "outputs": [],
   "source": [
    "# import xgboost\n",
    "# from xgboost import XGBClassifier\n",
    "\n",
    "# xgb = XGBClassifier(learning_rate = 0.01, gamma=2)\n",
    "# xgb.fit(X_train,y_train)"
   ]
  },
  {
   "cell_type": "code",
   "execution_count": null,
   "id": "da000ed8",
   "metadata": {},
   "outputs": [],
   "source": [
    "\n",
    "\n",
    "print(classification_report(y_test, predictions))"
   ]
  },
  {
   "cell_type": "code",
   "execution_count": null,
   "id": "48f47a2d",
   "metadata": {
    "scrolled": true
   },
   "outputs": [],
   "source": [
    "cf_matrix = confusion_matrix(y_test, predictions)\n",
    "sns.heatmap(cf_matrix, annot=True,fmt='d', cmap='Purples')\n",
    "plt.title('Confusion Matrix of SMLR', fontweight='bold', fontsize=16)\n",
    "plt.xlabel('Predicted', fontweight='bold', fontsize=12)\n",
    "plt.ylabel('Actual', fontweight='bold', fontsize=12)\n",
    "plt.show()"
   ]
  },
  {
   "cell_type": "code",
   "execution_count": null,
   "id": "304ffcd0",
   "metadata": {},
   "outputs": [],
   "source": [
    "predictions_prob = model.predict_proba(X_test)\n",
    "roc_auc_score(y_test,predictions_prob[:,1])"
   ]
  },
  {
   "cell_type": "code",
   "execution_count": null,
   "id": "3be29e0a",
   "metadata": {},
   "outputs": [],
   "source": [
    "tn=cf_matrix[0,0]\n",
    "fp=cf_matrix[0,1]\n",
    "fn=cf_matrix[1,0]\n",
    "tp=cf_matrix[1,1]\n",
    "\n",
    "accuracy=(tn+tp)/(tn+tp+fn+fp)\n",
    "precision=tp/(tp+fp)\n",
    "recall=tp/(tp+fn)\n",
    "f1_score=2*recall*precision/(recall+precision)\n",
    "print('Accuracy',accuracy)\n",
    "print('F1-score',f1_score)\n",
    "print('Precison',precision)\n",
    "print('recall',recall)\n",
    "print('kappa-score',cohen_kappa_score(y_test,predictions))"
   ]
  },
  {
   "cell_type": "code",
   "execution_count": null,
   "id": "9d1502e1",
   "metadata": {},
   "outputs": [],
   "source": [
    "features_weight = model.coef_[0]\n",
    "features_index = [id for id, weight in enumerate(features_weight) if weight!=0]\n",
    "smlr_features = X_final.iloc[:, features_index].columns.to_list()\n",
    "print('Top SLMR features: \\n', smlr_features)"
   ]
  },
  {
   "cell_type": "code",
   "execution_count": null,
   "id": "539f1682",
   "metadata": {},
   "outputs": [],
   "source": [
    "from ReliefF import ReliefF\n",
    "\n",
    "fs = ReliefF(n_neighbors=1, n_features_to_keep=10)\n",
    "features = fs.fit_transform( X_final.to_numpy(),y.to_numpy()).T"
   ]
  },
  {
   "cell_type": "code",
   "execution_count": null,
   "id": "03739333",
   "metadata": {
    "scrolled": true
   },
   "outputs": [],
   "source": [
    "columns = X_final.columns.to_list()\n",
    "reliefF_features = []\n",
    "for feature in features:\n",
    "    for column in columns:\n",
    "        idx = (X_final[column] == feature)\n",
    "        if idx.all() == True:\n",
    "            reliefF_features.append(column)\n",
    "\n",
    "print('Top-10 features: \\n', reliefF_features)"
   ]
  },
  {
   "cell_type": "code",
   "execution_count": null,
   "id": "a43e6c0a",
   "metadata": {},
   "outputs": [],
   "source": [
    "feature_names = pd.DataFrame({'features': columns})\n",
    "feature_names = feature_names.set_index('features')\n",
    "# feature_names[['smlr', 'reliefF']] = np.nan"
   ]
  },
  {
   "cell_type": "code",
   "execution_count": null,
   "id": "bc623481",
   "metadata": {},
   "outputs": [],
   "source": [
    "def is_important_feature(row, var):\n",
    "    names = []\n",
    "    for index in row.index.to_list():\n",
    "        #print(index)\n",
    "        if index in var:\n",
    "            #print(index,feat)\n",
    "            names.append(index)\n",
    "        else:\n",
    "           # print('no')\n",
    "            names.append(np.NaN)\n",
    "    return names\n"
   ]
  },
  {
   "cell_type": "code",
   "execution_count": null,
   "id": "12b29772",
   "metadata": {},
   "outputs": [],
   "source": [
    "# feature_names['test']=feature_names.apply(lambda row: is_important_feature(row, smlr_features))\n",
    "# feature_names"
   ]
  },
  {
   "cell_type": "code",
   "execution_count": null,
   "id": "72ba03ca",
   "metadata": {},
   "outputs": [],
   "source": []
  },
  {
   "cell_type": "markdown",
   "id": "bb1ef8b6",
   "metadata": {
    "scrolled": true
   },
   "source": [
    "feature_names['SMLR'] = feature_names.apply(lambda row: is_important_feature(row, smlr_features))\n",
    "feature_names['SMLR']"
   ]
  },
  {
   "cell_type": "code",
   "execution_count": null,
   "id": "3043e679",
   "metadata": {},
   "outputs": [],
   "source": [
    "feature_names['reliefF'] = feature_names.apply(lambda row: is_important_feature(row, reliefF_features))"
   ]
  },
  {
   "cell_type": "code",
   "execution_count": null,
   "id": "722e0406",
   "metadata": {},
   "outputs": [],
   "source": [
    "feature_names['counts'] = 5 - feature_names.isnull().sum(axis=1)"
   ]
  },
  {
   "cell_type": "code",
   "execution_count": null,
   "id": "4187faa0",
   "metadata": {},
   "outputs": [],
   "source": [
    "plt.figure(figsize=(20,8))\n",
    "features_counts = feature_names['counts'].sort_values(ascending=False).to_frame()\n",
    "ax = sns.barplot(x=features_counts.index, y='counts', data=features_counts,  palette=\"YlGnBu\")\n",
    "for p in ax.patches:\n",
    "    ax.annotate(format(p.get_height(), '.1f'), \n",
    "                   (p.get_x() + p.get_width() / 2., p.get_height()), \n",
    "                   ha = 'center', va = 'center', \n",
    "                   xytext = (0, 9), \n",
    "                   textcoords = 'offset points')\n",
    "ax = ax.set_xticklabels(features_counts.index, rotation = 45, ha=\"right\")"
   ]
  },
  {
   "cell_type": "markdown",
   "id": "d1b07a54",
   "metadata": {},
   "source": [
    "# Modelling-Final "
   ]
  },
  {
   "cell_type": "code",
   "execution_count": null,
   "id": "adc2e1f0",
   "metadata": {},
   "outputs": [],
   "source": []
  },
  {
   "cell_type": "code",
   "execution_count": null,
   "id": "1bed3e00",
   "metadata": {},
   "outputs": [],
   "source": [
    "score_card = pd.DataFrame(columns=['Model Name','Precision Score', 'Recall Score', 'f1-score','Accuracy Score','roc_auc_score'])\n",
    " \n",
    "def update_scorecard(name,prec,recall,f1,acc,roc):\n",
    "    global score_card\n",
    "    score_card = score_card.append({'Model Name':name,'Precision Score': prec,'Recall Score': recall,\n",
    "                                    'f1-score': f1,'Accuracy Score':acc,'roc_auc_score':roc},ignore_index = True)"
   ]
  },
  {
   "cell_type": "code",
   "execution_count": null,
   "id": "a8b87f01",
   "metadata": {},
   "outputs": [],
   "source": [
    "ll=LabelEncoder()\n",
    "y_label=pd.DataFrame(ll.fit_transform(y))\n"
   ]
  },
  {
   "cell_type": "code",
   "execution_count": null,
   "id": "245059e6",
   "metadata": {},
   "outputs": [],
   "source": [
    "X_train, X_test, y_train, y_test = train_test_split(X_final, y_label, test_size=0.3, random_state=42)"
   ]
  },
  {
   "cell_type": "code",
   "execution_count": null,
   "id": "47d2e87f",
   "metadata": {},
   "outputs": [],
   "source": [
    "update_scorecard('SMLR',0.740740,0.719794,0.7,0.710106,0.770198)"
   ]
  },
  {
   "cell_type": "markdown",
   "id": "3ffc40a2",
   "metadata": {},
   "source": [
    "### Decison Tree  "
   ]
  },
  {
   "cell_type": "code",
   "execution_count": null,
   "id": "4642252d",
   "metadata": {},
   "outputs": [],
   "source": [
    "dt = DecisionTreeClassifier()\n",
    "dt.fit(X_train,y_train)"
   ]
  },
  {
   "cell_type": "code",
   "execution_count": null,
   "id": "1c174cdb",
   "metadata": {
    "scrolled": false
   },
   "outputs": [],
   "source": [
    "test_pred = dt.predict(X_test)\n",
    "train_pred = dt.predict(X_train)\n",
    "\n",
    "print(classification_report(y_train,train_pred))\n",
    "print(classification_report(y_test,test_pred))"
   ]
  },
  {
   "cell_type": "code",
   "execution_count": null,
   "id": "7645cb76",
   "metadata": {},
   "outputs": [],
   "source": [
    "test_pred_prob = dt.predict_proba(X_test)\n",
    "roc_auc_score(y_test,test_pred_prob[:,1])"
   ]
  },
  {
   "cell_type": "code",
   "execution_count": null,
   "id": "9069c40c",
   "metadata": {},
   "outputs": [],
   "source": [
    "update_scorecard('Decision Tree',0.68,0.67,0.65,0.64,0.642727)"
   ]
  },
  {
   "cell_type": "code",
   "execution_count": null,
   "id": "e97fda69",
   "metadata": {},
   "outputs": [],
   "source": [
    "tuned_params = [{'criterion': ['entropy', 'gini'],\n",
    "                'max_depth': range(2,14),\n",
    "                 'min_samples_split':range(3,10),\n",
    "                'max_leaf_nodes':range(2,10)}]\n",
    "\n",
    "                     \n",
    "dt_grid=GridSearchCV(estimator=DecisionTreeClassifier(random_state=10,),\n",
    "                     param_grid=tuned_params,cv=5,scoring='f1')\n",
    "dt_grid.fit(X_train,y_train)\n",
    "\n",
    "dt_grid.best_params_"
   ]
  },
  {
   "cell_type": "code",
   "execution_count": null,
   "id": "8561c471",
   "metadata": {},
   "outputs": [],
   "source": [
    "dt_tuned = dt_grid.best_estimator_"
   ]
  },
  {
   "cell_type": "code",
   "execution_count": null,
   "id": "cee89277",
   "metadata": {},
   "outputs": [],
   "source": [
    "dt_tuned.fit(X_train,y_train)"
   ]
  },
  {
   "cell_type": "code",
   "execution_count": null,
   "id": "1c11196f",
   "metadata": {},
   "outputs": [],
   "source": [
    "test_pred = dt_tuned.predict(X_test)\n",
    "train_pred = dt_tuned.predict(X_train)\n",
    "\n",
    "print(classification_report(y_train,train_pred))\n",
    "print(classification_report(y_test,test_pred))"
   ]
  },
  {
   "cell_type": "code",
   "execution_count": null,
   "id": "361af723",
   "metadata": {},
   "outputs": [],
   "source": [
    "test_pred_prob = dt_tuned.predict_log_proba(X_test)\n",
    "roc_auc_score(y_test,test_pred_prob[:,1])"
   ]
  },
  {
   "cell_type": "code",
   "execution_count": null,
   "id": "f9e9d37d",
   "metadata": {},
   "outputs": [],
   "source": [
    "update_scorecard('Decision Tree(tuned)',0.75,0.81,0.77,0.75,0.77544)"
   ]
  },
  {
   "cell_type": "markdown",
   "id": "e5aaa08c",
   "metadata": {},
   "source": [
    "### BAGGING -RANDOM FOREST"
   ]
  },
  {
   "cell_type": "code",
   "execution_count": null,
   "id": "4c304123",
   "metadata": {},
   "outputs": [],
   "source": [
    "random_base_model=RandomForestClassifier(random_state=10)\n",
    "random_base_model=random_base_model.fit(X_train,y_train)"
   ]
  },
  {
   "cell_type": "code",
   "execution_count": null,
   "id": "cdf4cd79",
   "metadata": {},
   "outputs": [],
   "source": [
    "def con_mat(model,x_test,y_test):\n",
    "    pred=model.predict(x_test)\n",
    "    m=confusion_matrix(y_test,pred)\n",
    "    tn=m[0,0]\n",
    "    fp=m[0,1]\n",
    "    fn=m[1,0]\n",
    "    tp=m[1,1]\n",
    "    print(sns.heatmap(con_mat(model,x_test,y_test,fmt='d',cbar=False,cmap='Purples')))"
   ]
  },
  {
   "cell_type": "code",
   "execution_count": null,
   "id": "9cd5b21f",
   "metadata": {},
   "outputs": [],
   "source": [
    "#check model performance"
   ]
  },
  {
   "cell_type": "code",
   "execution_count": null,
   "id": "f6402c4f",
   "metadata": {},
   "outputs": [],
   "source": [
    "pred_test=random_base_model.predict(X_test)\n",
    "pred_train=random_base_model.predict(X_train)"
   ]
  },
  {
   "cell_type": "code",
   "execution_count": null,
   "id": "dcc21d70",
   "metadata": {},
   "outputs": [],
   "source": [
    "prob=random_base_model.predict_proba(X_test)"
   ]
  },
  {
   "cell_type": "code",
   "execution_count": null,
   "id": "34690e7b",
   "metadata": {},
   "outputs": [],
   "source": [
    "#confusion metrics"
   ]
  },
  {
   "cell_type": "code",
   "execution_count": null,
   "id": "3c9bc22e",
   "metadata": {
    "scrolled": true
   },
   "outputs": [],
   "source": [
    "m=confusion_matrix(y_test,pred_test)\n",
    "tn=m[0,0]\n",
    "fp=m[0,1]\n",
    "fn=m[1,0]\n",
    "tp=m[1,1]\n",
    "sns.heatmap(m,annot=True,fmt='d',cmap='Purples',cbar=False)\n",
    "plt.show()"
   ]
  },
  {
   "cell_type": "code",
   "execution_count": null,
   "id": "d787c41d",
   "metadata": {},
   "outputs": [],
   "source": [
    "accuracy=(tn+tp)/(tn+tp+fn+fp)\n",
    "precision=tp/(tp+fp)\n",
    "recall=tp/(tp+fn)\n",
    "f1_score=2*recall*precision/(recall+precision)\n",
    "print('Accuracy',accuracy)\n",
    "print('F1-score',f1_score)\n",
    "print('Precison',precision)\n",
    "print('recall',recall)\n",
    "print('kappa-score',cohen_kappa_score(y_test,pred_test))"
   ]
  },
  {
   "cell_type": "code",
   "execution_count": null,
   "id": "d6f19250",
   "metadata": {},
   "outputs": [],
   "source": [
    "#classification report"
   ]
  },
  {
   "cell_type": "code",
   "execution_count": null,
   "id": "5d27cdfc",
   "metadata": {},
   "outputs": [],
   "source": [
    "print(classification_report(y_train,pred_train))"
   ]
  },
  {
   "cell_type": "code",
   "execution_count": null,
   "id": "d534f555",
   "metadata": {},
   "outputs": [],
   "source": [
    "print(classification_report(y_test,pred_test))"
   ]
  },
  {
   "cell_type": "code",
   "execution_count": null,
   "id": "9ac10772",
   "metadata": {},
   "outputs": [],
   "source": [
    "roc=roc_auc_score(y_test,prob[:,1])\n",
    "roc"
   ]
  },
  {
   "cell_type": "markdown",
   "id": "fb75ee11",
   "metadata": {},
   "source": [
    " From the above output, we can see that there is a difference between the train and test scores; \n",
    "thus, we can conclude that the random tree is over-fitted on the train data."
   ]
  },
  {
   "cell_type": "code",
   "execution_count": null,
   "id": "2d7341e4",
   "metadata": {},
   "outputs": [],
   "source": [
    "#lets tune the hyperparameters in the random forest , it helps to avoid the over-fitting of the tree."
   ]
  },
  {
   "cell_type": "code",
   "execution_count": null,
   "id": "c50e8881",
   "metadata": {},
   "outputs": [],
   "source": [
    "## Tuning the DT model\n",
    "\n",
    "tuned_params = [{'criterion': ['entropy', 'gini'],\n",
    "                     'n_estimators': [10, 20, 30, 50, 70, 90],\n",
    "                     'max_depth': range(2,14,4)}]\n",
    "\n",
    "                     \n",
    "rf_grid=GridSearchCV(estimator=RandomForestClassifier(random_state=10,),\n",
    "                     param_grid=tuned_params,cv=5,scoring='f1')\n",
    "rf_grid.fit(X_train,y_train)\n",
    "\n",
    "rf_grid.best_params_"
   ]
  },
  {
   "cell_type": "code",
   "execution_count": null,
   "id": "92be8d91",
   "metadata": {},
   "outputs": [],
   "source": [
    "#lets build the model using tuned params\n",
    "rf_tune=RandomForestClassifier(n_estimators=50,criterion='entropy',max_depth=10,random_state=10)\n",
    "rf_tune.fit(X_train,y_train)"
   ]
  },
  {
   "cell_type": "code",
   "execution_count": null,
   "id": "fd002ec3",
   "metadata": {},
   "outputs": [],
   "source": [
    "pred_train=rf_tune.predict(X_train)\n",
    "pred_test=rf_tune.predict(X_test)\n",
    "#prob_test=rf_tune.predict_proba(X_test)"
   ]
  },
  {
   "cell_type": "code",
   "execution_count": null,
   "id": "6d9d04e6",
   "metadata": {},
   "outputs": [],
   "source": [
    "print(classification_report(y_train,pred_train))"
   ]
  },
  {
   "cell_type": "code",
   "execution_count": null,
   "id": "a90ae04c",
   "metadata": {},
   "outputs": [],
   "source": [
    "print(classification_report(y_test,pred_test))"
   ]
  },
  {
   "cell_type": "code",
   "execution_count": null,
   "id": "a112a49b",
   "metadata": {},
   "outputs": [],
   "source": [
    "#lets choose optimal value of threshold\n",
    "prob_test=rf_tune.predict_proba(X_test)\n",
    "#prob_test[:,1]"
   ]
  },
  {
   "cell_type": "code",
   "execution_count": null,
   "id": "0d45a2ea",
   "metadata": {},
   "outputs": [],
   "source": [
    "\n",
    "fpr,tpr,th=roc_curve(y_test,prob_test[:,1])\n",
    "df_roc=pd.DataFrame({'fpr':fpr,'tpr':tpr,'thresh':th})\n",
    "df_roc['youden']=df_roc['tpr']-df_roc['fpr']\n",
    "df_roc.sort_values(by='youden',ascending=False)\n",
    "#use thresh as 0.498"
   ]
  },
  {
   "cell_type": "code",
   "execution_count": null,
   "id": "0704ed83",
   "metadata": {},
   "outputs": [],
   "source": [
    "pred_test_roc=[0 if i <0.498 else 1 for i in prob_test[:,1]]\n",
    "print(classification_report(y_test,pred_test_roc))"
   ]
  },
  {
   "cell_type": "code",
   "execution_count": null,
   "id": "2b5f2cc2",
   "metadata": {},
   "outputs": [],
   "source": []
  },
  {
   "cell_type": "code",
   "execution_count": null,
   "id": "1323c431",
   "metadata": {},
   "outputs": [],
   "source": [
    "roc_auc_score(y_test,prob_test[:,1])"
   ]
  },
  {
   "cell_type": "code",
   "execution_count": null,
   "id": "6a436af6",
   "metadata": {},
   "outputs": [],
   "source": [
    "# feature importance"
   ]
  },
  {
   "cell_type": "code",
   "execution_count": null,
   "id": "04ad49ae",
   "metadata": {},
   "outputs": [],
   "source": [
    "df_rf_imp=pd.DataFrame({'feature':X_train.columns,'importance':rf_tune.feature_importances_})\n",
    "df_rf_imp=df_rf_imp.sort_values(by='importance',ascending=False)"
   ]
  },
  {
   "cell_type": "code",
   "execution_count": null,
   "id": "359d39f0",
   "metadata": {},
   "outputs": [],
   "source": [
    "plt.figure(figsize=(16,7))\n",
    "sns.barplot(df_rf_imp['feature'],df_rf_imp['importance'])\n",
    "plt.xticks(rotation=90);"
   ]
  },
  {
   "cell_type": "code",
   "execution_count": null,
   "id": "fd10e1b9",
   "metadata": {},
   "outputs": [],
   "source": [
    "update_scorecard('random_base_model',precision,recall,f1_score,accuracy,roc)\n",
    "update_scorecard('random_tune_model',0.72,0.72,0.72,0.72,0.790)\n",
    "score_card"
   ]
  },
  {
   "cell_type": "markdown",
   "id": "6913ce17",
   "metadata": {},
   "source": [
    "### BOOSTING TECHNIQUE - ADABOOSTING"
   ]
  },
  {
   "cell_type": "code",
   "execution_count": null,
   "id": "e84b121b",
   "metadata": {
    "scrolled": true
   },
   "outputs": [],
   "source": [
    "ada_base_model=AdaBoostClassifier(random_state=10)\n",
    "ada_base_model.fit(X_train,y_train)"
   ]
  },
  {
   "cell_type": "code",
   "execution_count": null,
   "id": "5fa6399b",
   "metadata": {},
   "outputs": [],
   "source": [
    "pred_train=ada_base_model.predict(X_train)\n",
    "pred_test=ada_base_model.predict(X_test)\n",
    "#prob_test=rf_tune.predict_proba(X_test)"
   ]
  },
  {
   "cell_type": "code",
   "execution_count": null,
   "id": "6411a9c4",
   "metadata": {},
   "outputs": [],
   "source": [
    "m=confusion_matrix(y_test,pred_test)\n",
    "tn=m[0,0]\n",
    "fp=m[0,1]\n",
    "fn=m[1,0]\n",
    "tp=m[1,1]\n",
    "sns.heatmap(m,annot=True,fmt='d',cbar=False,cmap='Purples')\n",
    "plt.show()"
   ]
  },
  {
   "cell_type": "code",
   "execution_count": null,
   "id": "2fc3f4f5",
   "metadata": {},
   "outputs": [],
   "source": [
    "\n",
    "accuracy=(tn+tp)/(tn+tp+fn+fp)\n",
    "precision=tp/(tp+fp)\n",
    "recall=tp/(tp+fn)\n",
    "f1_score=2*recall*precision/(recall+precision)\n",
    "print('Accuracy',accuracy)\n",
    "print('F1-score',f1_score)\n",
    "print('Precison',precision)\n",
    "print('recall',recall)\n",
    "print('kappa-score',cohen_kappa_score(y_test,pred_test))"
   ]
  },
  {
   "cell_type": "code",
   "execution_count": null,
   "id": "0f305fcd",
   "metadata": {},
   "outputs": [],
   "source": [
    "print(classification_report(y_train,pred_train))"
   ]
  },
  {
   "cell_type": "code",
   "execution_count": null,
   "id": "52615275",
   "metadata": {},
   "outputs": [],
   "source": [
    "print(classification_report(y_test,pred_test))"
   ]
  },
  {
   "cell_type": "code",
   "execution_count": null,
   "id": "1f7685d6",
   "metadata": {},
   "outputs": [],
   "source": [
    "prob_test=ada_base_model.predict_proba(X_test)\n",
    "roc=roc_auc_score(y_test,prob_test[:,1])"
   ]
  },
  {
   "cell_type": "code",
   "execution_count": null,
   "id": "c68d1453",
   "metadata": {},
   "outputs": [],
   "source": [
    "# the model is performing well on both train and test data set  but it can be further improved "
   ]
  },
  {
   "cell_type": "code",
   "execution_count": null,
   "id": "3006404f",
   "metadata": {},
   "outputs": [],
   "source": [
    "update_scorecard('ada_base_model',precision,recall,f1_score,accuracy,roc)\n",
    "score_card"
   ]
  },
  {
   "cell_type": "code",
   "execution_count": null,
   "id": "237b5213",
   "metadata": {},
   "outputs": [],
   "source": [
    "# lets tune model\n",
    "params=[{'n_estimators': [10, 20, 30, 50, 70, 90],\n",
    "         'learning_rate': [0.1, 0.2, 0.3, 0.4, 0.5, 0.6],\n",
    "        }]\n",
    "ada_grid=GridSearchCV(estimator=AdaBoostClassifier(random_state=10),param_grid=params,cv=3,scoring='f1')\n",
    "ada_grid.fit(X_train,y_train)\n",
    "ada_grid.best_params_"
   ]
  },
  {
   "cell_type": "code",
   "execution_count": null,
   "id": "8b3320ec",
   "metadata": {},
   "outputs": [],
   "source": [
    "# build model using tuned params\n",
    "ada_tune=AdaBoostClassifier(learning_rate=0.3,n_estimators=10,random_state=10)\n",
    "ada_tune.fit(X_train,y_train)"
   ]
  },
  {
   "cell_type": "code",
   "execution_count": null,
   "id": "da7841fe",
   "metadata": {},
   "outputs": [],
   "source": [
    "pred_train=ada_tune.predict(X_train)\n",
    "pred_test=ada_tune.predict(X_test)"
   ]
  },
  {
   "cell_type": "code",
   "execution_count": null,
   "id": "adc6ee37",
   "metadata": {},
   "outputs": [],
   "source": [
    "print(classification_report(y_train,pred_train))"
   ]
  },
  {
   "cell_type": "code",
   "execution_count": null,
   "id": "27b364d1",
   "metadata": {},
   "outputs": [],
   "source": [
    "print(classification_report(y_test,pred_test))"
   ]
  },
  {
   "cell_type": "code",
   "execution_count": null,
   "id": "80351e01",
   "metadata": {},
   "outputs": [],
   "source": [
    "#lets choose optimal value of threshold\n",
    "prob_test=ada_tune.predict_proba(X_test)\n",
    "#prob_test[:,1]\n",
    "fpr,tpr,th=roc_curve(y_test,prob_test[:,1])\n",
    "df_roc_ada=pd.DataFrame({'fpr':fpr,'tpr':tpr,'thresh':th})\n",
    "df_roc_ada['youden']=df_roc_ada['tpr']-df_roc_ada['fpr']\n",
    "df_roc_ada.sort_values(by='youden',ascending=False).head(5)\n",
    "#use thresh as 0.517"
   ]
  },
  {
   "cell_type": "code",
   "execution_count": null,
   "id": "3c2de778",
   "metadata": {},
   "outputs": [],
   "source": [
    "pred_test_roc=[0 if i <0.517 else 1 for i in prob_test[:,1]]\n",
    "print(classification_report(y_test,pred_test_roc))"
   ]
  },
  {
   "cell_type": "code",
   "execution_count": null,
   "id": "dd2d642a",
   "metadata": {},
   "outputs": [],
   "source": [
    "roc_auc_score(y_test,prob_test[:,1])"
   ]
  },
  {
   "cell_type": "code",
   "execution_count": null,
   "id": "2af330e7",
   "metadata": {},
   "outputs": [],
   "source": [
    "update_scorecard('ada_tune_model',0.75,0.75,0.75,0.75,0.7952)\n",
    "score_card"
   ]
  },
  {
   "cell_type": "code",
   "execution_count": null,
   "id": "dd641956",
   "metadata": {},
   "outputs": [],
   "source": [
    "df_ada_imp=pd.DataFrame({'feature':X_train.columns,'importance':ada_tune.feature_importances_})\n",
    "df_ada_imp=df_ada_imp.sort_values(by='importance',ascending=False)\n"
   ]
  },
  {
   "cell_type": "code",
   "execution_count": null,
   "id": "56b47723",
   "metadata": {
    "scrolled": false
   },
   "outputs": [],
   "source": [
    "plt.figure(figsize=(16,7))\n",
    "sns.barplot(df_ada_imp['feature'],df_ada_imp['importance'])\n",
    "plt.xticks(rotation=90);"
   ]
  },
  {
   "cell_type": "code",
   "execution_count": null,
   "id": "428220c2",
   "metadata": {},
   "outputs": [],
   "source": [
    "X_train_1 = X_train.drop(['work_interfere','family_history_Yes','care_options_Yes','benefits_Yes'],axis=1)\n",
    "X_test_1 = X_test.drop(['work_interfere','family_history_Yes','care_options_Yes','benefits_Yes'],axis=1)"
   ]
  },
  {
   "cell_type": "code",
   "execution_count": null,
   "id": "2ee83ccb",
   "metadata": {},
   "outputs": [],
   "source": [
    "# build model to see impact of other features \n",
    "ada_feat=AdaBoostClassifier(learning_rate=0.3,n_estimators=10,random_state=10)\n",
    "ada_feat.fit(X_train_1,y_train)"
   ]
  },
  {
   "cell_type": "code",
   "execution_count": null,
   "id": "628b17ca",
   "metadata": {},
   "outputs": [],
   "source": [
    "pred_train=ada_feat.predict(X_train_1)\n",
    "pred_test=ada_feat.predict(X_test_1)\n",
    "\n",
    "print(classification_report(y_train,pred_train))"
   ]
  },
  {
   "cell_type": "code",
   "execution_count": null,
   "id": "56650da5",
   "metadata": {},
   "outputs": [],
   "source": [
    "df_ada_feat=pd.DataFrame({'feature':X_train_1.columns,'importance':ada_feat.feature_importances_})\n",
    "df_ada_feat=df_ada_feat.sort_values(by='importance',ascending=False)\n"
   ]
  },
  {
   "cell_type": "code",
   "execution_count": null,
   "id": "920c7bdf",
   "metadata": {},
   "outputs": [],
   "source": [
    "plt.figure(figsize=(16,7))\n",
    "sns.barplot(df_ada_feat['feature'],df_ada_feat['importance'])\n",
    "plt.xticks(rotation=90);"
   ]
  },
  {
   "cell_type": "code",
   "execution_count": null,
   "id": "e88caef4",
   "metadata": {},
   "outputs": [],
   "source": [
    "#lets build model using imp features"
   ]
  },
  {
   "cell_type": "code",
   "execution_count": null,
   "id": "4ff47d7d",
   "metadata": {},
   "outputs": [],
   "source": [
    "sig_ada=df_ada_imp[df_ada_imp['importance']>0]['feature']\n",
    "sig_ada"
   ]
  },
  {
   "cell_type": "code",
   "execution_count": null,
   "id": "8d1bd1d9",
   "metadata": {},
   "outputs": [],
   "source": [
    "x_train_ada=X_train[sig_ada]\n",
    "x_test_ada=X_test[sig_ada]"
   ]
  },
  {
   "cell_type": "code",
   "execution_count": null,
   "id": "cc7ce4b1",
   "metadata": {},
   "outputs": [],
   "source": [
    "ada_sig_model=AdaBoostClassifier(learning_rate=0.3,n_estimators=10,random_state=10)\n",
    "ada_sig_model.fit(x_train_ada,y_train)\n"
   ]
  },
  {
   "cell_type": "code",
   "execution_count": null,
   "id": "e21cefd5",
   "metadata": {},
   "outputs": [],
   "source": [
    "pred_test=ada_sig_model.predict(x_test_ada)"
   ]
  },
  {
   "cell_type": "code",
   "execution_count": null,
   "id": "005c7dbf",
   "metadata": {},
   "outputs": [],
   "source": [
    "print(classification_report(y_test,pred_test))"
   ]
  },
  {
   "cell_type": "code",
   "execution_count": null,
   "id": "d3436d7a",
   "metadata": {},
   "outputs": [],
   "source": [
    "prob=ada_sig_model.predict_proba(x_test_ada)\n",
    "roc_auc_score(y_test,prob[:,1])"
   ]
  },
  {
   "cell_type": "code",
   "execution_count": null,
   "id": "e6029b2d",
   "metadata": {},
   "outputs": [],
   "source": [
    "update_scorecard('ada_significant_feature_model',0.75,0.75,0.75,0.75,0.7952)\n",
    "score_card"
   ]
  },
  {
   "cell_type": "markdown",
   "id": "19ade39b",
   "metadata": {},
   "source": [
    "### XGBOOST"
   ]
  },
  {
   "cell_type": "code",
   "execution_count": null,
   "id": "7a078852",
   "metadata": {},
   "outputs": [],
   "source": [
    "xgboost_base_model=XGBClassifier(eval_metric='error')\n",
    "xgboost_base_model.fit(X_train,y_train)"
   ]
  },
  {
   "cell_type": "code",
   "execution_count": null,
   "id": "53cfdc6a",
   "metadata": {},
   "outputs": [],
   "source": [
    "pred_train=xgboost_base_model.predict(X_train)\n",
    "pred_test=xgboost_base_model.predict(X_test)"
   ]
  },
  {
   "cell_type": "code",
   "execution_count": null,
   "id": "d79065ef",
   "metadata": {},
   "outputs": [],
   "source": [
    "m=confusion_matrix(y_test,pred_test)\n",
    "tn=m[0,0]\n",
    "fp=m[0,1]\n",
    "fn=m[1,0]\n",
    "tp=m[1,1]\n",
    "sns.heatmap(m,annot=True,cmap='Purples',cbar=False,fmt='d')\n",
    "plt.show()"
   ]
  },
  {
   "cell_type": "code",
   "execution_count": null,
   "id": "feea6c3b",
   "metadata": {},
   "outputs": [],
   "source": [
    "accuracy=(tn+tp)/(tn+tp+fn+fp)\n",
    "precision=tp/(tp+fp)\n",
    "recall=tp/(tp+fn)\n",
    "f1_score=(2*recall*precision)/(recall+precision)\n",
    "print('Accuracy',accuracy)\n",
    "print('F1-score',f1_score)\n",
    "print('Precison',precision)\n",
    "print('recall',recall)\n",
    "print('kappa-score',cohen_kappa_score(y_test,pred_test))"
   ]
  },
  {
   "cell_type": "code",
   "execution_count": null,
   "id": "d86e604f",
   "metadata": {},
   "outputs": [],
   "source": [
    "print(classification_report(y_train,pred_train))"
   ]
  },
  {
   "cell_type": "code",
   "execution_count": null,
   "id": "b350c3ba",
   "metadata": {},
   "outputs": [],
   "source": [
    "print(classification_report(y_test,pred_test))"
   ]
  },
  {
   "cell_type": "markdown",
   "id": "e9b7f889",
   "metadata": {},
   "source": [
    "From the above output, we can see that there is a difference between the train and test scores; thus, we can conclude that the random tree is over-fitted on the train data."
   ]
  },
  {
   "cell_type": "code",
   "execution_count": null,
   "id": "ee835e82",
   "metadata": {},
   "outputs": [],
   "source": [
    "prob=xgboost_base_model.predict_proba(X_test)\n",
    "roc=roc_auc_score(y_test,prob[:,1])\n",
    "roc"
   ]
  },
  {
   "cell_type": "code",
   "execution_count": null,
   "id": "252f1857",
   "metadata": {},
   "outputs": [],
   "source": [
    "update_scorecard('xgboost_base_model',precision,recall,f1_score,accuracy,roc)\n",
    "score_card"
   ]
  },
  {
   "cell_type": "code",
   "execution_count": null,
   "id": "098a9ede",
   "metadata": {},
   "outputs": [],
   "source": [
    "# lets tune the model to find optimal parameters for better performance"
   ]
  },
  {
   "cell_type": "code",
   "execution_count": null,
   "id": "c03730ef",
   "metadata": {},
   "outputs": [],
   "source": [
    "tuning_params = {'learning_rate': [0.1, 0.2, 0.3, 0.4, 0.5, 0.6],\n",
    "                     'max_depth': range(3,10),\n",
    "                     'gamma': [0, 1, 2, 3, 4]}\n",
    "\n",
    "xgb_grid = GridSearchCV(estimator = XGBClassifier(eval_metric='error'), param_grid = tuning_params, cv = 3, scoring = 'roc_auc').fit(X_train, y_train)\n",
    "\n",
    "xgb_grid.best_params_"
   ]
  },
  {
   "cell_type": "code",
   "execution_count": null,
   "id": "8294e12c",
   "metadata": {},
   "outputs": [],
   "source": [
    "#model build using tuned params\n",
    "xgb_tuned = XGBClassifier(learning_rate = xgb_grid.best_params_.get('learning_rate'),\n",
    "                max_depth = xgb_grid.best_params_.get('max_depth'),\n",
    "                gamma = xgb_grid.best_params_.get('gamma')).fit(X_train, y_train)\n",
    "\n",
    "ypred_train_tuned = xgb_tuned.predict(X_train)\n",
    "ypred_tuned = xgb_tuned.predict(X_test)\n",
    "ypred_prob_tuned =xgb_tuned.predict_proba(X_test)[:,1]"
   ]
  },
  {
   "cell_type": "code",
   "execution_count": null,
   "id": "5577c4d4",
   "metadata": {},
   "outputs": [],
   "source": [
    "# Train report\n",
    "print(classification_report(y_train,ypred_train_tuned))"
   ]
  },
  {
   "cell_type": "code",
   "execution_count": null,
   "id": "3cc521a1",
   "metadata": {},
   "outputs": [],
   "source": [
    "# Test report\n",
    "print(classification_report(y_test,ypred_tuned))"
   ]
  },
  {
   "cell_type": "code",
   "execution_count": null,
   "id": "ba4402da",
   "metadata": {},
   "outputs": [],
   "source": [
    "prob=xgb_tuned.predict_proba(X_test)\n",
    "roc_auc_score(y_test,prob[:,1])"
   ]
  },
  {
   "cell_type": "code",
   "execution_count": null,
   "id": "e181d50b",
   "metadata": {},
   "outputs": [],
   "source": [
    "update_scorecard('xgb_tuned_model',0.74,0.74,0.74,0.74,0.781)\n",
    "score_card"
   ]
  },
  {
   "cell_type": "code",
   "execution_count": null,
   "id": "dac6dd6f",
   "metadata": {},
   "outputs": [],
   "source": [
    "important_features = pd.DataFrame({'Features': X_train.columns, \n",
    "                                   'Importance': xgb_tuned.feature_importances_})\n",
    "important_features = important_features.sort_values('Importance', ascending = False)\n",
    "\n",
    "plt.figure(figsize=(14,7))\n",
    "sns.barplot(y = 'Importance', x = 'Features', data = important_features)\n",
    "plt.title('Feature Importance', fontsize = 15)\n",
    "plt.xlabel('Importance', fontsize = 15)\n",
    "plt.ylabel('Features', fontsize = 15)\n",
    "plt.xticks(rotation=90)\n",
    "plt.show()"
   ]
  },
  {
   "cell_type": "markdown",
   "id": "d78f2a5b",
   "metadata": {},
   "source": [
    "### Stacking"
   ]
  },
  {
   "cell_type": "code",
   "execution_count": null,
   "id": "f9742bc8",
   "metadata": {},
   "outputs": [],
   "source": []
  },
  {
   "cell_type": "code",
   "execution_count": null,
   "id": "a6a1f131",
   "metadata": {},
   "outputs": [],
   "source": [
    "# consider the various algorithms as base learners\n",
    "base_learners = [('rf', RandomForestClassifier(n_estimators=50,criterion='entropy',max_depth=10,random_state=10)),\n",
    "                 ('ada',AdaBoostClassifier(learning_rate=0.3,n_estimators=10,random_state=10)),\n",
    "                 ('xgb', XGBClassifier(learning_rate = 0.5,max_depth = 3,gamma = 4,eval_metric='error'))]\n",
    "\n",
    "final = KNeighborsClassifier(metric='euclidean',n_neighbors=7)\n",
    "\n",
    "stack_model = StackingClassifier(estimators = base_learners, final_estimator = final).fit(X_train, y_train)\n",
    "\n",
    "ypred_train_tuned = stack_model.predict(X_train)\n",
    "ypred_tuned = stack_model.predict(X_test)\n",
    "ypred_prob_tuned =stack_model.predict_proba(X_test)[:,1]"
   ]
  },
  {
   "cell_type": "code",
   "execution_count": null,
   "id": "1a1aa223",
   "metadata": {},
   "outputs": [],
   "source": [
    "# Train report\n",
    "print(classification_report(y_train,ypred_train_tuned))"
   ]
  },
  {
   "cell_type": "code",
   "execution_count": null,
   "id": "f77f959d",
   "metadata": {},
   "outputs": [],
   "source": [
    "# Test report\n",
    "print(classification_report(y_test,ypred_tuned))"
   ]
  },
  {
   "cell_type": "code",
   "execution_count": null,
   "id": "d04f7cf9",
   "metadata": {},
   "outputs": [],
   "source": [
    "prob=stack_model.predict_proba(X_test)\n",
    "roc=roc_auc_score(y_test,prob[:,1])"
   ]
  },
  {
   "cell_type": "code",
   "execution_count": null,
   "id": "480e91fa",
   "metadata": {},
   "outputs": [],
   "source": [
    "update_scorecard('Stacked(RF,ada,XG)',0.68,0.68,0.68,0.68,roc)"
   ]
  },
  {
   "cell_type": "code",
   "execution_count": null,
   "id": "7d01c9b7",
   "metadata": {},
   "outputs": [],
   "source": [
    "# consider the various algorithms as base learners\n",
    "base_learners = [('rf', RandomForestClassifier(n_estimators=50,criterion='entropy',max_depth=10,random_state=10)),\n",
    "                 ('ada',AdaBoostClassifier(learning_rate=0.3,n_estimators=10,random_state=10)),\n",
    "                 ('smlr', smlr.SMLR()),\n",
    "                 ('xgb', XGBClassifier(learning_rate = 0.5,max_depth = 3,gamma = 4,eval_metric='error'))]\n",
    "\n",
    "final = KNeighborsClassifier(metric='euclidean',n_neighbors=7)\n",
    "\n",
    "stack_model = StackingClassifier(estimators = base_learners, final_estimator = final).fit(X_train, y_train)"
   ]
  },
  {
   "cell_type": "code",
   "execution_count": null,
   "id": "16ec28f0",
   "metadata": {},
   "outputs": [],
   "source": [
    "ypred_train_tuned = stack_model.predict(X_train)\n",
    "ypred_tuned = stack_model.predict(X_test)\n",
    "ypred_prob_tuned =stack_model.predict_proba(X_test)[:,1]\n",
    "\n",
    "# Train report\n",
    "print(classification_report(y_train,ypred_train_tuned))\n",
    "\n",
    "# Test report\n",
    "print(classification_report(y_test,ypred_tuned))"
   ]
  },
  {
   "cell_type": "code",
   "execution_count": null,
   "id": "19b7b336",
   "metadata": {},
   "outputs": [],
   "source": [
    "prob=stack_model.predict_proba(X_test)\n",
    "roc=roc_auc_score(y_test,prob[:,1])"
   ]
  },
  {
   "cell_type": "code",
   "execution_count": null,
   "id": "c1308ce6",
   "metadata": {},
   "outputs": [],
   "source": [
    "update_scorecard('Stacked(RF,ada,SMLR,XG)',0.77,0.68,0.72,0.72,roc)"
   ]
  },
  {
   "cell_type": "code",
   "execution_count": null,
   "id": "ad5c16c3",
   "metadata": {
    "scrolled": true
   },
   "outputs": [],
   "source": [
    "# consider the various algorithms as base learners\n",
    "base_learners = [('rf', RandomForestClassifier(n_estimators=50,criterion='entropy',max_depth=10,random_state=10)),\n",
    "                 #('ada',AdaBoostClassifier(learning_rate=0.3,n_estimators=10,random_state=10)),\n",
    "                 ('smlr', smlr.SMLR()),\n",
    "                 ('xgb', XGBClassifier(learning_rate = 0.5,max_depth = 3,gamma = 4,eval_metric='error'))]\n",
    "\n",
    "final = KNeighborsClassifier(metric='euclidean',n_neighbors=7)\n",
    "\n",
    "stack_model = StackingClassifier(estimators = base_learners, final_estimator = final).fit(X_train, y_train)"
   ]
  },
  {
   "cell_type": "code",
   "execution_count": null,
   "id": "c4182035",
   "metadata": {
    "scrolled": false
   },
   "outputs": [],
   "source": [
    "ypred_train_tuned = stack_model.predict(X_train)\n",
    "ypred_tuned = stack_model.predict(X_test)\n",
    "ypred_prob_tuned =stack_model.predict_proba(X_test)[:,1]\n",
    "\n",
    "# Train report\n",
    "print(classification_report(y_train,ypred_train_tuned))\n",
    "\n",
    "# Test report\n",
    "print(classification_report(y_test,ypred_tuned))"
   ]
  },
  {
   "cell_type": "code",
   "execution_count": null,
   "id": "28d7352d",
   "metadata": {},
   "outputs": [],
   "source": [
    "stack_model.feature_names_in_"
   ]
  },
  {
   "cell_type": "code",
   "execution_count": null,
   "id": "88586af9",
   "metadata": {},
   "outputs": [],
   "source": [
    "stack_model.n_features_in_"
   ]
  },
  {
   "cell_type": "code",
   "execution_count": null,
   "id": "462a41c0",
   "metadata": {
    "scrolled": true
   },
   "outputs": [],
   "source": [
    "classifier = GaussianNB()\n",
    "classifier.fit(X_train, y_train)\n",
    "y_pred_test  =  classifier.predict(X_test)\n",
    "y_pred_train  =  classifier.predict(X_train)\n",
    "print(classification_report(y_train,y_pred_train))\n",
    "print(classification_report(y_test,y_pred_test))"
   ]
  },
  {
   "cell_type": "code",
   "execution_count": null,
   "id": "bc0ed9c5",
   "metadata": {},
   "outputs": [],
   "source": [
    "clf = SVC(kernel='linear', C = 1.0,)\n",
    "clf.fit(X_train,y_train)"
   ]
  },
  {
   "cell_type": "code",
   "execution_count": null,
   "id": "1c702aa9",
   "metadata": {},
   "outputs": [],
   "source": [
    "y_pred_test  =  clf.predict(X_test)\n",
    "y_pred_train  =  clf.predict(X_train)\n",
    "print(classification_report(y_train,y_pred_train))\n",
    "print(classification_report(y_test,y_pred_test))"
   ]
  },
  {
   "cell_type": "code",
   "execution_count": null,
   "id": "7ba6dc30",
   "metadata": {},
   "outputs": [],
   "source": [
    "SVC().get_params().keys()"
   ]
  },
  {
   "cell_type": "markdown",
   "id": "95860b9c",
   "metadata": {},
   "source": [
    "### Random-forest with relief"
   ]
  },
  {
   "cell_type": "code",
   "execution_count": null,
   "id": "ddde07db",
   "metadata": {},
   "outputs": [],
   "source": [
    "# selected important features using relief\n",
    "X_train_rf = X_train[reliefF_features]\n",
    "X_test_rf = X_test[reliefF_features]"
   ]
  },
  {
   "cell_type": "code",
   "execution_count": null,
   "id": "05c1d43b",
   "metadata": {},
   "outputs": [],
   "source": [
    "random_feat=RandomForestClassifier(random_state=10)\n",
    "random_feat=random_base_model.fit(X_train_rf,y_train)"
   ]
  },
  {
   "cell_type": "code",
   "execution_count": null,
   "id": "1db8a6ca",
   "metadata": {},
   "outputs": [],
   "source": [
    "#check model performance\n",
    "\n",
    "pred_test=random_base_model.predict(X_test_rf)\n",
    "pred_train=random_base_model.predict(X_train_rf)\n",
    "\n",
    "prob=random_base_model.predict_proba(X_test_rf)"
   ]
  },
  {
   "cell_type": "code",
   "execution_count": null,
   "id": "6c481f11",
   "metadata": {},
   "outputs": [],
   "source": [
    "#confusion metrics\n",
    "\n",
    "m=confusion_matrix(y_test,pred_test)\n",
    "tn=m[0,0]\n",
    "fp=m[0,1]\n",
    "fn=m[1,0]\n",
    "tp=m[1,1]\n",
    "sns.heatmap(m,annot=True,fmt='d',cmap='Purples',cbar=False)\n",
    "plt.show()"
   ]
  },
  {
   "cell_type": "code",
   "execution_count": null,
   "id": "5de77ef5",
   "metadata": {},
   "outputs": [],
   "source": [
    "accuracy=(tn+tp)/(tn+tp+fn+fp)\n",
    "precision=tp/(tp+fp)\n",
    "recall=tp/(tp+fn)\n",
    "f1_score=2*recall*precision/(recall+precision)\n",
    "print('Accuracy',accuracy)\n",
    "print('F1-score',f1_score)\n",
    "print('Precison',precision)\n",
    "print('recall',recall)\n",
    "print('kappa-score',cohen_kappa_score(y_test,pred_test))"
   ]
  },
  {
   "cell_type": "code",
   "execution_count": null,
   "id": "49091205",
   "metadata": {},
   "outputs": [],
   "source": [
    "#classification report\n",
    "\n",
    "print(classification_report(y_train,pred_train))\n",
    "\n",
    "print(classification_report(y_test,pred_test))\n",
    "\n",
    "roc=roc_auc_score(y_test,prob[:,1])\n",
    "roc"
   ]
  },
  {
   "cell_type": "code",
   "execution_count": null,
   "id": "ef8401a9",
   "metadata": {
    "scrolled": false
   },
   "outputs": [],
   "source": [
    "update_scorecard('random_with_reliefF',0.74419,0.64,0.688,0.691489,0.711491)\n",
    "score_card"
   ]
  },
  {
   "cell_type": "markdown",
   "id": "1b7a1df2",
   "metadata": {},
   "source": [
    "### Ada with reliefF features"
   ]
  },
  {
   "cell_type": "code",
   "execution_count": null,
   "id": "f8dd090a",
   "metadata": {},
   "outputs": [],
   "source": [
    "ada_base_model=AdaBoostClassifier(random_state=10)\n",
    "ada_base_model.fit(X_train_rf,y_train)"
   ]
  },
  {
   "cell_type": "code",
   "execution_count": null,
   "id": "ad6925a0",
   "metadata": {},
   "outputs": [],
   "source": [
    "pred_train=ada_base_model.predict(X_train_rf)\n",
    "pred_test=ada_base_model.predict(X_test_rf)\n",
    "#prob_test=rf_tune.predict_proba(X_test)"
   ]
  },
  {
   "cell_type": "code",
   "execution_count": null,
   "id": "e3353293",
   "metadata": {},
   "outputs": [],
   "source": [
    "m=confusion_matrix(y_test,pred_test)\n",
    "tn=m[0,0]\n",
    "fp=m[0,1]\n",
    "fn=m[1,0]\n",
    "tp=m[1,1]\n",
    "sns.heatmap(m,annot=True,fmt='d',cbar=False,cmap='Purples')\n",
    "plt.show()"
   ]
  },
  {
   "cell_type": "code",
   "execution_count": null,
   "id": "c0560302",
   "metadata": {},
   "outputs": [],
   "source": [
    "accuracy=(tn+tp)/(tn+tp+fn+fp)\n",
    "precision=tp/(tp+fp)\n",
    "recall=tp/(tp+fn)\n",
    "f1_score=2*recall*precision/(recall+precision)\n",
    "print('Accuracy',accuracy)\n",
    "print('F1-score',f1_score)\n",
    "print('Precison',precision)\n",
    "print('recall',recall)\n",
    "print('kappa-score',cohen_kappa_score(y_test,pred_test))"
   ]
  },
  {
   "cell_type": "code",
   "execution_count": null,
   "id": "a7cc371f",
   "metadata": {},
   "outputs": [],
   "source": [
    "print(classification_report(y_train,pred_train))\n",
    "\n",
    "print(classification_report(y_test,pred_test))\n",
    "\n",
    "prob_test=ada_base_model.predict_proba(X_test_rf)\n",
    "roc=roc_auc_score(y_test,prob_test[:,1])\n",
    "roc"
   ]
  },
  {
   "cell_type": "code",
   "execution_count": null,
   "id": "87a61240",
   "metadata": {},
   "outputs": [],
   "source": [
    "update_scorecard('ada_with_reliefF',precision,recall,f1_score,accuracy,roc)"
   ]
  },
  {
   "cell_type": "code",
   "execution_count": null,
   "id": "71917c94",
   "metadata": {
    "scrolled": false
   },
   "outputs": [],
   "source": [
    "# consider the various algorithms as base learners\n",
    "base_learners = [('rf', RandomForestClassifier(n_estimators=50,criterion='entropy',max_depth=10,random_state=10)),\n",
    "                 ('dt',DecisionTreeClassifier(max_depth=4, max_leaf_nodes=6, min_samples_split=3,random_state=10)),\n",
    "                 ('smlr', smlr.SMLR()),\n",
    "                 ('xgb', XGBClassifier(learning_rate = 0.5,max_depth = 3,gamma = 4,eval_metric='error'))]\n",
    "\n",
    "final = KNeighborsClassifier(metric='euclidean',n_neighbors=7)\n",
    "\n",
    "stack_model_dt = StackingClassifier(estimators = base_learners, final_estimator = final).fit(X_train, y_train)\n",
    "\n",
    "ypred_train_tuned = stack_model.predict(X_train)\n",
    "ypred_tuned = stack_model.predict(X_test)\n",
    "ypred_prob_tuned =stack_model.predict_proba(X_test)[:,1]\n",
    "\n",
    "# Train report\n",
    "print(classification_report(y_train,ypred_train_tuned))\n",
    "\n",
    "# Test report\n",
    "print(classification_report(y_test,ypred_tuned))"
   ]
  },
  {
   "cell_type": "markdown",
   "id": "3708dee0",
   "metadata": {},
   "source": [
    "### Compare Result"
   ]
  },
  {
   "cell_type": "code",
   "execution_count": null,
   "id": "8cb05af8",
   "metadata": {
    "scrolled": false
   },
   "outputs": [],
   "source": [
    "score_card"
   ]
  },
  {
   "cell_type": "code",
   "execution_count": null,
   "id": "35860f8e",
   "metadata": {},
   "outputs": [],
   "source": [
    "# Of all models, Adaboosting model has better performance metrics than other models.\n",
    "# But while looking at the importance of features, it is only considering few features.\n",
    "# Even after removing the highly affecting features, it only gives importance to few features. \n",
    "# Hence it is not capturing the dataset completely.\n",
    "\n",
    "# So we select stacked model WITH SMLR, RANDOM FOREST AND XGBOOST. FINAL-KNN as final model. \n",
    "# The model performace is good and is considering many features"
   ]
  },
  {
   "cell_type": "markdown",
   "id": "7e50e712",
   "metadata": {},
   "source": [
    "### Final Model"
   ]
  },
  {
   "cell_type": "markdown",
   "id": "38e8f5ff",
   "metadata": {},
   "source": [
    "### STACKED MODEL WITH SMLR, RANDOM FOREST AND XGBOOST. FINAL-KNN"
   ]
  },
  {
   "cell_type": "code",
   "execution_count": null,
   "id": "a28ebd04",
   "metadata": {},
   "outputs": [],
   "source": [
    "# consider the various algorithms as base learners\n",
    "base_learners = [('rf', RandomForestClassifier(n_estimators=50,criterion='entropy',max_depth=10,random_state=10)),\n",
    "                 #('ada',AdaBoostClassifier(learning_rate=0.3,n_estimators=10,random_state=10)),\n",
    "                 ('smlr', smlr.SMLR()),\n",
    "                 ('xgb', XGBClassifier(learning_rate = 0.5,max_depth = 3,gamma = 4,eval_metric='error'))]\n",
    "\n",
    "final = KNeighborsClassifier(metric='euclidean',n_neighbors=7)\n",
    "\n",
    "stack_model_final = StackingClassifier(estimators = base_learners, final_estimator = final).fit(X_train, y_train)"
   ]
  },
  {
   "cell_type": "code",
   "execution_count": null,
   "id": "cd780599",
   "metadata": {},
   "outputs": [],
   "source": [
    "ypred_train_tuned = stack_model_final.predict(X_train)\n",
    "ypred_tuned = stack_model_final.predict(X_test)\n",
    "ypred_prob_tuned =stack_model_final.predict_proba(X_test)[:,1]\n",
    "\n",
    "# Train report\n",
    "print(classification_report(y_train,ypred_train_tuned))\n",
    "\n",
    "# Test report\n",
    "print(classification_report(y_test,ypred_tuned))\n",
    "\n"
   ]
  },
  {
   "cell_type": "code",
   "execution_count": null,
   "id": "a88f4bc9",
   "metadata": {},
   "outputs": [],
   "source": [
    "m=confusion_matrix(y_test,ypred_tuned)\n",
    "tn=m[0,0]\n",
    "fp=m[0,1]\n",
    "fn=m[1,0]\n",
    "tp=m[1,1]\n",
    "sns.heatmap(m,annot=True,fmt='d',cbar=False,cmap='Purples')\n",
    "plt.show()"
   ]
  },
  {
   "cell_type": "code",
   "execution_count": null,
   "id": "2eeafe24",
   "metadata": {},
   "outputs": [],
   "source": [
    "accuracy=(tn+tp)/(tn+tp+fn+fp)\n",
    "precision=tp/(tp+fp)\n",
    "recall=tp/(tp+fn)\n",
    "f1_score=2*recall*precision/(recall+precision)\n",
    "print('Accuracy',accuracy)\n",
    "print('F1-score',f1_score)\n",
    "print('Precison',precision)\n",
    "print('recall',recall)\n",
    "print('kappa-score',cohen_kappa_score(y_test,ypred_tuned))"
   ]
  },
  {
   "cell_type": "code",
   "execution_count": null,
   "id": "28607fa7",
   "metadata": {},
   "outputs": [],
   "source": [
    "prob=stack_model_final.predict_proba(X_test)\n",
    "roc=roc_auc_score(y_test,prob[:,1])\n",
    "print('roc score:',roc)"
   ]
  },
  {
   "cell_type": "code",
   "execution_count": null,
   "id": "e3dab9ea",
   "metadata": {},
   "outputs": [],
   "source": [
    "fpr,tpr,th=roc_curve(y_test,prob[:,1])\n",
    "\n",
    "plt.figure(figsize=(10,6))\n",
    "plt.plot(fpr,tpr)\n",
    "plt.xlim([0.0,1.0])\n",
    "plt.ylim([0.0,1.0])\n",
    "plt.plot([0,1],[0,1],'r--')\n",
    "plt.title('ROC Curve for stacked RF,SMLR,XGB',fontsize=12)\n",
    "plt.xlabel('False Positive Rate')\n",
    "plt.ylabel('True Positive Rate')\n",
    "plt.grid('True')\n",
    "plt.show()"
   ]
  },
  {
   "cell_type": "code",
   "execution_count": null,
   "id": "ed78a561",
   "metadata": {},
   "outputs": [],
   "source": [
    "print('No of features selected in training the model :',stack_model.n_features_in_)\n",
    "stack_model.feature_names_in_"
   ]
  },
  {
   "cell_type": "code",
   "execution_count": null,
   "id": "07510d6e",
   "metadata": {},
   "outputs": [],
   "source": [
    "update_scorecard('Stacked (RF,SMLR,XG)',0.777143,0.68,0.725333,0.726064,roc)"
   ]
  },
  {
   "cell_type": "markdown",
   "id": "343f9877",
   "metadata": {},
   "source": [
    "From the above importance’s of RF & XG, we may say that the employees who have faced work interference and have a family history of mental illness are prone to have mental health issue. We can also say that with age the mental mealth is affected."
   ]
  },
  {
   "cell_type": "markdown",
   "id": "c7d4e9e1",
   "metadata": {},
   "source": [
    "## Bootstrapping "
   ]
  },
  {
   "cell_type": "code",
   "execution_count": null,
   "id": "a22b53fc",
   "metadata": {},
   "outputs": [],
   "source": [
    "from sklearn.utils import resample\n",
    "from sklearn.metrics import accuracy_score"
   ]
  },
  {
   "cell_type": "code",
   "execution_count": null,
   "id": "bcaffcb3",
   "metadata": {},
   "outputs": [],
   "source": [
    "# restructure data for input into model\n",
    "X_train_bs = X_train.values.reshape((len(X_train.values), 35))\n",
    "y_train_bs = y_train.values.ravel()\n",
    "X_test_bs = X_test.values.reshape((len(X_test.values), 35))\n",
    "y_test_bs = y_test.values.ravel()\n"
   ]
  },
  {
   "cell_type": "code",
   "execution_count": null,
   "id": "9ca9ab04",
   "metadata": {},
   "outputs": [],
   "source": [
    "# train model\n",
    "base_learners = [('rf', RandomForestClassifier(n_estimators=50,criterion='entropy',max_depth=10,random_state=10)),\n",
    "                 ('smlr', smlr.SMLR()),\n",
    "                 ('xgb', XGBClassifier(learning_rate = 0.5,max_depth = 3,gamma = 4,eval_metric='error'))]\n",
    "\n",
    "final = KNeighborsClassifier(metric='euclidean',n_neighbors=7)\n",
    "\n",
    "stack_model_final = StackingClassifier(estimators = base_learners, final_estimator = final).fit(X_train, y_train)\n",
    "\n",
    "\n",
    "# bootstrap predictions\n",
    "accuracy_stack = []\n",
    "n_iterations = 1000\n",
    "for i in range(n_iterations):\n",
    "    X_bs, y_bs = resample(X_train_bs, y_train_bs, replace=True)\n",
    "    # make predictions\n",
    "    y_hat = stack_model_final.predict(X_bs)\n",
    "    # evaluate model\n",
    "    score = accuracy_score(y_bs, y_hat)\n",
    "    accuracy_stack.append(score)\n",
    "    \n",
    "print(np.mean(accuracy))"
   ]
  },
  {
   "cell_type": "code",
   "execution_count": null,
   "id": "e6e7b2f3",
   "metadata": {},
   "outputs": [],
   "source": [
    "# get median\n",
    "median_stack = np.percentile(accuracy_stack, 50)\n",
    "\n",
    "# get 95% interval\n",
    "alpha = 100-95\n",
    "lower_ci = np.percentile(accuracy_stack, alpha/2)\n",
    "upper_ci = np.percentile(accuracy_stack, 100-alpha/2)\n",
    "\n",
    "print(f\"Model accuracy is reported on the test set. 1000 bootstrapped samples \" \n",
    "      f\"were used to calculate 95% confidence intervals.\\n\"\n",
    "      f\"Median accuracy is {median_stack:.2f} with a 95% a confidence \"\n",
    "      f\"interval of [{lower_ci:.2f},{upper_ci:.2f}].\")\n"
   ]
  },
  {
   "cell_type": "markdown",
   "id": "35644269",
   "metadata": {},
   "source": [
    "Decision criteria:<br>\n",
    "While hyper tuning the parameters, we focus on reducing False Negative i.e, the employee is suffering from mental illness and the model predicts him/her as healthy. This will be a loss employee. At the same time the accuracy of the model should be high.  "
   ]
  },
  {
   "cell_type": "code",
   "execution_count": null,
   "id": "6d4fcf4d",
   "metadata": {},
   "outputs": [],
   "source": []
  }
 ],
 "metadata": {
  "kernelspec": {
   "display_name": "Python 3 (ipykernel)",
   "language": "python",
   "name": "python3"
  },
  "language_info": {
   "codemirror_mode": {
    "name": "ipython",
    "version": 3
   },
   "file_extension": ".py",
   "mimetype": "text/x-python",
   "name": "python",
   "nbconvert_exporter": "python",
   "pygments_lexer": "ipython3",
   "version": "3.9.7"
  }
 },
 "nbformat": 4,
 "nbformat_minor": 5
}
